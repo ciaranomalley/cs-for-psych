{
  "nbformat": 4,
  "nbformat_minor": 0,
  "metadata": {
    "colab": {
      "name": "practical-4_Ciaran_OMalley.ipynb",
      "provenance": [],
      "collapsed_sections": [
        "eQZFBzX1uYQk",
        "oORPgZUSujuS",
        "2HQwjb6PuphZ",
        "T-ptP-SouuEg",
        "vn9CNozmuz-7",
        "qQczi6pIu_XZ",
        "iqkhsDLIvF3h",
        "mmusbvisvNbT",
        "fBGKBmVTvh6y",
        "cLYgwuktv-Fr",
        "cYkbIPsRwW3k",
        "nvjb4MwlwiQ5",
        "mH7xCNMAwuLE",
        "SJrdyTIpyxf7",
        "Qp97Q3eBxSY8",
        "u7IEqXSpxuMA"
      ],
      "include_colab_link": true
    },
    "kernelspec": {
      "name": "python3",
      "display_name": "Python 3"
    }
  },
  "cells": [
    {
      "cell_type": "markdown",
      "metadata": {
        "id": "view-in-github",
        "colab_type": "text"
      },
      "source": [
        "<a href=\"https://colab.research.google.com/github/ciaranomalley/cs-for-psych/blob/master/practical_4_Ciaran_OMalley.ipynb\" target=\"_parent\"><img src=\"https://colab.research.google.com/assets/colab-badge.svg\" alt=\"Open In Colab\"/></a>"
      ]
    },
    {
      "cell_type": "markdown",
      "metadata": {
        "id": "3yi4kO8BKOyf"
      },
      "source": [
        "<font color='red'>\n",
        "\n",
        "# Data Analysis Lab\n",
        "    \n",
        "<font color='black'>\n",
        "\n",
        "Content of todays Lab\n",
        "\n",
        "\n",
        "\n",
        "*   Data Load and Check\n",
        "*   Data analysis\n",
        "*   Handling missing values\n",
        "*   Feature Engineering\n",
        "*   Prediction using sklearn model"
      ]
    },
    {
      "cell_type": "code",
      "metadata": {
        "id": "bzgU557wKN0x"
      },
      "source": [
        "# importing libs\n",
        "import numpy as np \n",
        "import pandas as pd \n",
        "import matplotlib.pyplot as plt \n",
        "import seaborn as sns "
      ],
      "execution_count": 44,
      "outputs": []
    },
    {
      "cell_type": "markdown",
      "metadata": {
        "id": "Vge1qOA-LEm_"
      },
      "source": [
        "## Loading Data"
      ]
    },
    {
      "cell_type": "code",
      "metadata": {
        "id": "IG1zA085LARS"
      },
      "source": [
        "train_data = pd.read_csv(\"https://raw.githubusercontent.com/agconti/kaggle-titanic/master/data/train.csv\")\n",
        "test_data = pd.read_csv(\"https://raw.githubusercontent.com/agconti/kaggle-titanic/master/data/test.csv\")"
      ],
      "execution_count": 45,
      "outputs": []
    },
    {
      "cell_type": "code",
      "metadata": {
        "colab": {
          "base_uri": "https://localhost:8080/",
          "height": 484
        },
        "id": "L83VVCceLJ54",
        "outputId": "5300a009-7beb-4003-cac9-ba8889723340"
      },
      "source": [
        "train_data.head()"
      ],
      "execution_count": 46,
      "outputs": [
        {
          "output_type": "execute_result",
          "data": {
            "text/html": [
              "<div>\n",
              "<style scoped>\n",
              "    .dataframe tbody tr th:only-of-type {\n",
              "        vertical-align: middle;\n",
              "    }\n",
              "\n",
              "    .dataframe tbody tr th {\n",
              "        vertical-align: top;\n",
              "    }\n",
              "\n",
              "    .dataframe thead th {\n",
              "        text-align: right;\n",
              "    }\n",
              "</style>\n",
              "<table border=\"1\" class=\"dataframe\">\n",
              "  <thead>\n",
              "    <tr style=\"text-align: right;\">\n",
              "      <th></th>\n",
              "      <th>PassengerId</th>\n",
              "      <th>Survived</th>\n",
              "      <th>Pclass</th>\n",
              "      <th>Name</th>\n",
              "      <th>Sex</th>\n",
              "      <th>Age</th>\n",
              "      <th>SibSp</th>\n",
              "      <th>Parch</th>\n",
              "      <th>Ticket</th>\n",
              "      <th>Fare</th>\n",
              "      <th>Cabin</th>\n",
              "      <th>Embarked</th>\n",
              "    </tr>\n",
              "  </thead>\n",
              "  <tbody>\n",
              "    <tr>\n",
              "      <th>0</th>\n",
              "      <td>1</td>\n",
              "      <td>0</td>\n",
              "      <td>3</td>\n",
              "      <td>Braund, Mr. Owen Harris</td>\n",
              "      <td>male</td>\n",
              "      <td>22.0</td>\n",
              "      <td>1</td>\n",
              "      <td>0</td>\n",
              "      <td>A/5 21171</td>\n",
              "      <td>7.2500</td>\n",
              "      <td>NaN</td>\n",
              "      <td>S</td>\n",
              "    </tr>\n",
              "    <tr>\n",
              "      <th>1</th>\n",
              "      <td>2</td>\n",
              "      <td>1</td>\n",
              "      <td>1</td>\n",
              "      <td>Cumings, Mrs. John Bradley (Florence Briggs Th...</td>\n",
              "      <td>female</td>\n",
              "      <td>38.0</td>\n",
              "      <td>1</td>\n",
              "      <td>0</td>\n",
              "      <td>PC 17599</td>\n",
              "      <td>71.2833</td>\n",
              "      <td>C85</td>\n",
              "      <td>C</td>\n",
              "    </tr>\n",
              "    <tr>\n",
              "      <th>2</th>\n",
              "      <td>3</td>\n",
              "      <td>1</td>\n",
              "      <td>3</td>\n",
              "      <td>Heikkinen, Miss. Laina</td>\n",
              "      <td>female</td>\n",
              "      <td>26.0</td>\n",
              "      <td>0</td>\n",
              "      <td>0</td>\n",
              "      <td>STON/O2. 3101282</td>\n",
              "      <td>7.9250</td>\n",
              "      <td>NaN</td>\n",
              "      <td>S</td>\n",
              "    </tr>\n",
              "    <tr>\n",
              "      <th>3</th>\n",
              "      <td>4</td>\n",
              "      <td>1</td>\n",
              "      <td>1</td>\n",
              "      <td>Futrelle, Mrs. Jacques Heath (Lily May Peel)</td>\n",
              "      <td>female</td>\n",
              "      <td>35.0</td>\n",
              "      <td>1</td>\n",
              "      <td>0</td>\n",
              "      <td>113803</td>\n",
              "      <td>53.1000</td>\n",
              "      <td>C123</td>\n",
              "      <td>S</td>\n",
              "    </tr>\n",
              "    <tr>\n",
              "      <th>4</th>\n",
              "      <td>5</td>\n",
              "      <td>0</td>\n",
              "      <td>3</td>\n",
              "      <td>Allen, Mr. William Henry</td>\n",
              "      <td>male</td>\n",
              "      <td>35.0</td>\n",
              "      <td>0</td>\n",
              "      <td>0</td>\n",
              "      <td>373450</td>\n",
              "      <td>8.0500</td>\n",
              "      <td>NaN</td>\n",
              "      <td>S</td>\n",
              "    </tr>\n",
              "  </tbody>\n",
              "</table>\n",
              "</div>"
            ],
            "text/plain": [
              "   PassengerId  Survived  Pclass  ...     Fare Cabin  Embarked\n",
              "0            1         0       3  ...   7.2500   NaN         S\n",
              "1            2         1       1  ...  71.2833   C85         C\n",
              "2            3         1       3  ...   7.9250   NaN         S\n",
              "3            4         1       1  ...  53.1000  C123         S\n",
              "4            5         0       3  ...   8.0500   NaN         S\n",
              "\n",
              "[5 rows x 12 columns]"
            ]
          },
          "metadata": {
            "tags": []
          },
          "execution_count": 46
        }
      ]
    },
    {
      "cell_type": "code",
      "metadata": {
        "colab": {
          "base_uri": "https://localhost:8080/",
          "height": 434
        },
        "id": "yhOP-hK5LLhn",
        "outputId": "eeaa0f9a-d721-4e48-e4cf-ef043a9d9ba3"
      },
      "source": [
        "test_data.head()"
      ],
      "execution_count": 47,
      "outputs": [
        {
          "output_type": "execute_result",
          "data": {
            "text/html": [
              "<div>\n",
              "<style scoped>\n",
              "    .dataframe tbody tr th:only-of-type {\n",
              "        vertical-align: middle;\n",
              "    }\n",
              "\n",
              "    .dataframe tbody tr th {\n",
              "        vertical-align: top;\n",
              "    }\n",
              "\n",
              "    .dataframe thead th {\n",
              "        text-align: right;\n",
              "    }\n",
              "</style>\n",
              "<table border=\"1\" class=\"dataframe\">\n",
              "  <thead>\n",
              "    <tr style=\"text-align: right;\">\n",
              "      <th></th>\n",
              "      <th>PassengerId</th>\n",
              "      <th>Pclass</th>\n",
              "      <th>Name</th>\n",
              "      <th>Sex</th>\n",
              "      <th>Age</th>\n",
              "      <th>SibSp</th>\n",
              "      <th>Parch</th>\n",
              "      <th>Ticket</th>\n",
              "      <th>Fare</th>\n",
              "      <th>Cabin</th>\n",
              "      <th>Embarked</th>\n",
              "    </tr>\n",
              "  </thead>\n",
              "  <tbody>\n",
              "    <tr>\n",
              "      <th>0</th>\n",
              "      <td>892</td>\n",
              "      <td>3</td>\n",
              "      <td>Kelly, Mr. James</td>\n",
              "      <td>male</td>\n",
              "      <td>34.5</td>\n",
              "      <td>0</td>\n",
              "      <td>0</td>\n",
              "      <td>330911</td>\n",
              "      <td>7.8292</td>\n",
              "      <td>NaN</td>\n",
              "      <td>Q</td>\n",
              "    </tr>\n",
              "    <tr>\n",
              "      <th>1</th>\n",
              "      <td>893</td>\n",
              "      <td>3</td>\n",
              "      <td>Wilkes, Mrs. James (Ellen Needs)</td>\n",
              "      <td>female</td>\n",
              "      <td>47.0</td>\n",
              "      <td>1</td>\n",
              "      <td>0</td>\n",
              "      <td>363272</td>\n",
              "      <td>7.0000</td>\n",
              "      <td>NaN</td>\n",
              "      <td>S</td>\n",
              "    </tr>\n",
              "    <tr>\n",
              "      <th>2</th>\n",
              "      <td>894</td>\n",
              "      <td>2</td>\n",
              "      <td>Myles, Mr. Thomas Francis</td>\n",
              "      <td>male</td>\n",
              "      <td>62.0</td>\n",
              "      <td>0</td>\n",
              "      <td>0</td>\n",
              "      <td>240276</td>\n",
              "      <td>9.6875</td>\n",
              "      <td>NaN</td>\n",
              "      <td>Q</td>\n",
              "    </tr>\n",
              "    <tr>\n",
              "      <th>3</th>\n",
              "      <td>895</td>\n",
              "      <td>3</td>\n",
              "      <td>Wirz, Mr. Albert</td>\n",
              "      <td>male</td>\n",
              "      <td>27.0</td>\n",
              "      <td>0</td>\n",
              "      <td>0</td>\n",
              "      <td>315154</td>\n",
              "      <td>8.6625</td>\n",
              "      <td>NaN</td>\n",
              "      <td>S</td>\n",
              "    </tr>\n",
              "    <tr>\n",
              "      <th>4</th>\n",
              "      <td>896</td>\n",
              "      <td>3</td>\n",
              "      <td>Hirvonen, Mrs. Alexander (Helga E Lindqvist)</td>\n",
              "      <td>female</td>\n",
              "      <td>22.0</td>\n",
              "      <td>1</td>\n",
              "      <td>1</td>\n",
              "      <td>3101298</td>\n",
              "      <td>12.2875</td>\n",
              "      <td>NaN</td>\n",
              "      <td>S</td>\n",
              "    </tr>\n",
              "  </tbody>\n",
              "</table>\n",
              "</div>"
            ],
            "text/plain": [
              "   PassengerId  Pclass  ... Cabin Embarked\n",
              "0          892       3  ...   NaN        Q\n",
              "1          893       3  ...   NaN        S\n",
              "2          894       2  ...   NaN        Q\n",
              "3          895       3  ...   NaN        S\n",
              "4          896       3  ...   NaN        S\n",
              "\n",
              "[5 rows x 11 columns]"
            ]
          },
          "metadata": {
            "tags": []
          },
          "execution_count": 47
        }
      ]
    },
    {
      "cell_type": "markdown",
      "metadata": {
        "id": "x1AUuClgLdKb"
      },
      "source": [
        "## Feature Analysis"
      ]
    },
    {
      "cell_type": "markdown",
      "metadata": {
        "id": "_PKFvmn-LiBn"
      },
      "source": [
        "\n",
        "\n",
        "1. PassengerId : unique id number to each passenger\n",
        "1. Survived : passenger survive(1) and died(0)\n",
        "1. Pclass : passenger class\n",
        "1. Name : name of passenger\n",
        "1. Sex : gender of passenger\n",
        "1. Age : age of passenger\n",
        "1. SibSp : number of siblings/spouse\n",
        "1. Parch : number of parent/children\n",
        "1. Ticket : ticket number\n",
        "1. Fare : amount of money spent on ticket\n",
        "1. Cabin : cabin category\n",
        "1. Embarked : port where passenger embarked (C= Cherbourg, Q=Quenntown, S = Southampton)\n",
        "\n",
        "\n",
        "\n",
        "\n",
        "* int64(5)   : PassengerId, Survived, Pclass, SibSp and Parch\n",
        "* object(5)  : Name, Sex, Ticket, Cabin and Embarked\n",
        "* float64(2) : Age and Fare"
      ]
    },
    {
      "cell_type": "markdown",
      "metadata": {
        "id": "QcK2oM-wL3bG"
      },
      "source": [
        "![titanic_metadata.png](data:image/png;base64,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)"
      ]
    },
    {
      "cell_type": "markdown",
      "metadata": {
        "id": "fkDqzzNVtduJ"
      },
      "source": [
        "![pandas dataframe](https://pandas.pydata.org/docs/_images/01_table_dataframe1.svg)"
      ]
    },
    {
      "cell_type": "code",
      "metadata": {
        "id": "B7VAcyCrtdDe",
        "colab": {
          "base_uri": "https://localhost:8080/"
        },
        "outputId": "784675fc-377f-4139-8419-ab7bb2e6d5e8"
      },
      "source": [
        "type(train_data)"
      ],
      "execution_count": 48,
      "outputs": [
        {
          "output_type": "execute_result",
          "data": {
            "text/plain": [
              "pandas.core.frame.DataFrame"
            ]
          },
          "metadata": {
            "tags": []
          },
          "execution_count": 48
        }
      ]
    },
    {
      "cell_type": "code",
      "metadata": {
        "id": "ddrVy3GTth_S",
        "colab": {
          "base_uri": "https://localhost:8080/",
          "height": 909
        },
        "outputId": "f2f00657-02f8-4a3f-bc9c-5cfd654e1358"
      },
      "source": [
        "train_data"
      ],
      "execution_count": 49,
      "outputs": [
        {
          "output_type": "execute_result",
          "data": {
            "text/html": [
              "<div>\n",
              "<style scoped>\n",
              "    .dataframe tbody tr th:only-of-type {\n",
              "        vertical-align: middle;\n",
              "    }\n",
              "\n",
              "    .dataframe tbody tr th {\n",
              "        vertical-align: top;\n",
              "    }\n",
              "\n",
              "    .dataframe thead th {\n",
              "        text-align: right;\n",
              "    }\n",
              "</style>\n",
              "<table border=\"1\" class=\"dataframe\">\n",
              "  <thead>\n",
              "    <tr style=\"text-align: right;\">\n",
              "      <th></th>\n",
              "      <th>PassengerId</th>\n",
              "      <th>Survived</th>\n",
              "      <th>Pclass</th>\n",
              "      <th>Name</th>\n",
              "      <th>Sex</th>\n",
              "      <th>Age</th>\n",
              "      <th>SibSp</th>\n",
              "      <th>Parch</th>\n",
              "      <th>Ticket</th>\n",
              "      <th>Fare</th>\n",
              "      <th>Cabin</th>\n",
              "      <th>Embarked</th>\n",
              "    </tr>\n",
              "  </thead>\n",
              "  <tbody>\n",
              "    <tr>\n",
              "      <th>0</th>\n",
              "      <td>1</td>\n",
              "      <td>0</td>\n",
              "      <td>3</td>\n",
              "      <td>Braund, Mr. Owen Harris</td>\n",
              "      <td>male</td>\n",
              "      <td>22.0</td>\n",
              "      <td>1</td>\n",
              "      <td>0</td>\n",
              "      <td>A/5 21171</td>\n",
              "      <td>7.2500</td>\n",
              "      <td>NaN</td>\n",
              "      <td>S</td>\n",
              "    </tr>\n",
              "    <tr>\n",
              "      <th>1</th>\n",
              "      <td>2</td>\n",
              "      <td>1</td>\n",
              "      <td>1</td>\n",
              "      <td>Cumings, Mrs. John Bradley (Florence Briggs Th...</td>\n",
              "      <td>female</td>\n",
              "      <td>38.0</td>\n",
              "      <td>1</td>\n",
              "      <td>0</td>\n",
              "      <td>PC 17599</td>\n",
              "      <td>71.2833</td>\n",
              "      <td>C85</td>\n",
              "      <td>C</td>\n",
              "    </tr>\n",
              "    <tr>\n",
              "      <th>2</th>\n",
              "      <td>3</td>\n",
              "      <td>1</td>\n",
              "      <td>3</td>\n",
              "      <td>Heikkinen, Miss. Laina</td>\n",
              "      <td>female</td>\n",
              "      <td>26.0</td>\n",
              "      <td>0</td>\n",
              "      <td>0</td>\n",
              "      <td>STON/O2. 3101282</td>\n",
              "      <td>7.9250</td>\n",
              "      <td>NaN</td>\n",
              "      <td>S</td>\n",
              "    </tr>\n",
              "    <tr>\n",
              "      <th>3</th>\n",
              "      <td>4</td>\n",
              "      <td>1</td>\n",
              "      <td>1</td>\n",
              "      <td>Futrelle, Mrs. Jacques Heath (Lily May Peel)</td>\n",
              "      <td>female</td>\n",
              "      <td>35.0</td>\n",
              "      <td>1</td>\n",
              "      <td>0</td>\n",
              "      <td>113803</td>\n",
              "      <td>53.1000</td>\n",
              "      <td>C123</td>\n",
              "      <td>S</td>\n",
              "    </tr>\n",
              "    <tr>\n",
              "      <th>4</th>\n",
              "      <td>5</td>\n",
              "      <td>0</td>\n",
              "      <td>3</td>\n",
              "      <td>Allen, Mr. William Henry</td>\n",
              "      <td>male</td>\n",
              "      <td>35.0</td>\n",
              "      <td>0</td>\n",
              "      <td>0</td>\n",
              "      <td>373450</td>\n",
              "      <td>8.0500</td>\n",
              "      <td>NaN</td>\n",
              "      <td>S</td>\n",
              "    </tr>\n",
              "    <tr>\n",
              "      <th>...</th>\n",
              "      <td>...</td>\n",
              "      <td>...</td>\n",
              "      <td>...</td>\n",
              "      <td>...</td>\n",
              "      <td>...</td>\n",
              "      <td>...</td>\n",
              "      <td>...</td>\n",
              "      <td>...</td>\n",
              "      <td>...</td>\n",
              "      <td>...</td>\n",
              "      <td>...</td>\n",
              "      <td>...</td>\n",
              "    </tr>\n",
              "    <tr>\n",
              "      <th>886</th>\n",
              "      <td>887</td>\n",
              "      <td>0</td>\n",
              "      <td>2</td>\n",
              "      <td>Montvila, Rev. Juozas</td>\n",
              "      <td>male</td>\n",
              "      <td>27.0</td>\n",
              "      <td>0</td>\n",
              "      <td>0</td>\n",
              "      <td>211536</td>\n",
              "      <td>13.0000</td>\n",
              "      <td>NaN</td>\n",
              "      <td>S</td>\n",
              "    </tr>\n",
              "    <tr>\n",
              "      <th>887</th>\n",
              "      <td>888</td>\n",
              "      <td>1</td>\n",
              "      <td>1</td>\n",
              "      <td>Graham, Miss. Margaret Edith</td>\n",
              "      <td>female</td>\n",
              "      <td>19.0</td>\n",
              "      <td>0</td>\n",
              "      <td>0</td>\n",
              "      <td>112053</td>\n",
              "      <td>30.0000</td>\n",
              "      <td>B42</td>\n",
              "      <td>S</td>\n",
              "    </tr>\n",
              "    <tr>\n",
              "      <th>888</th>\n",
              "      <td>889</td>\n",
              "      <td>0</td>\n",
              "      <td>3</td>\n",
              "      <td>Johnston, Miss. Catherine Helen \"Carrie\"</td>\n",
              "      <td>female</td>\n",
              "      <td>NaN</td>\n",
              "      <td>1</td>\n",
              "      <td>2</td>\n",
              "      <td>W./C. 6607</td>\n",
              "      <td>23.4500</td>\n",
              "      <td>NaN</td>\n",
              "      <td>S</td>\n",
              "    </tr>\n",
              "    <tr>\n",
              "      <th>889</th>\n",
              "      <td>890</td>\n",
              "      <td>1</td>\n",
              "      <td>1</td>\n",
              "      <td>Behr, Mr. Karl Howell</td>\n",
              "      <td>male</td>\n",
              "      <td>26.0</td>\n",
              "      <td>0</td>\n",
              "      <td>0</td>\n",
              "      <td>111369</td>\n",
              "      <td>30.0000</td>\n",
              "      <td>C148</td>\n",
              "      <td>C</td>\n",
              "    </tr>\n",
              "    <tr>\n",
              "      <th>890</th>\n",
              "      <td>891</td>\n",
              "      <td>0</td>\n",
              "      <td>3</td>\n",
              "      <td>Dooley, Mr. Patrick</td>\n",
              "      <td>male</td>\n",
              "      <td>32.0</td>\n",
              "      <td>0</td>\n",
              "      <td>0</td>\n",
              "      <td>370376</td>\n",
              "      <td>7.7500</td>\n",
              "      <td>NaN</td>\n",
              "      <td>Q</td>\n",
              "    </tr>\n",
              "  </tbody>\n",
              "</table>\n",
              "<p>891 rows × 12 columns</p>\n",
              "</div>"
            ],
            "text/plain": [
              "     PassengerId  Survived  Pclass  ...     Fare Cabin  Embarked\n",
              "0              1         0       3  ...   7.2500   NaN         S\n",
              "1              2         1       1  ...  71.2833   C85         C\n",
              "2              3         1       3  ...   7.9250   NaN         S\n",
              "3              4         1       1  ...  53.1000  C123         S\n",
              "4              5         0       3  ...   8.0500   NaN         S\n",
              "..           ...       ...     ...  ...      ...   ...       ...\n",
              "886          887         0       2  ...  13.0000   NaN         S\n",
              "887          888         1       1  ...  30.0000   B42         S\n",
              "888          889         0       3  ...  23.4500   NaN         S\n",
              "889          890         1       1  ...  30.0000  C148         C\n",
              "890          891         0       3  ...   7.7500   NaN         Q\n",
              "\n",
              "[891 rows x 12 columns]"
            ]
          },
          "metadata": {
            "tags": []
          },
          "execution_count": 49
        }
      ]
    },
    {
      "cell_type": "code",
      "metadata": {
        "id": "j2cW7rf0t_fr",
        "colab": {
          "base_uri": "https://localhost:8080/"
        },
        "outputId": "6db4d632-fef6-4002-e029-eb7d526aeb3c"
      },
      "source": [
        "train_data.info()"
      ],
      "execution_count": 50,
      "outputs": [
        {
          "output_type": "stream",
          "text": [
            "<class 'pandas.core.frame.DataFrame'>\n",
            "RangeIndex: 891 entries, 0 to 890\n",
            "Data columns (total 12 columns):\n",
            " #   Column       Non-Null Count  Dtype  \n",
            "---  ------       --------------  -----  \n",
            " 0   PassengerId  891 non-null    int64  \n",
            " 1   Survived     891 non-null    int64  \n",
            " 2   Pclass       891 non-null    int64  \n",
            " 3   Name         891 non-null    object \n",
            " 4   Sex          891 non-null    object \n",
            " 5   Age          714 non-null    float64\n",
            " 6   SibSp        891 non-null    int64  \n",
            " 7   Parch        891 non-null    int64  \n",
            " 8   Ticket       891 non-null    object \n",
            " 9   Fare         891 non-null    float64\n",
            " 10  Cabin        204 non-null    object \n",
            " 11  Embarked     889 non-null    object \n",
            "dtypes: float64(2), int64(5), object(5)\n",
            "memory usage: 83.7+ KB\n"
          ],
          "name": "stdout"
        }
      ]
    },
    {
      "cell_type": "code",
      "metadata": {
        "id": "NscRp7-iuH9d",
        "colab": {
          "base_uri": "https://localhost:8080/",
          "height": 304
        },
        "outputId": "09f69949-225b-45b3-b3b6-76042c08c6b9"
      },
      "source": [
        "\r\n",
        "train_data.describe()"
      ],
      "execution_count": 51,
      "outputs": [
        {
          "output_type": "execute_result",
          "data": {
            "text/html": [
              "<div>\n",
              "<style scoped>\n",
              "    .dataframe tbody tr th:only-of-type {\n",
              "        vertical-align: middle;\n",
              "    }\n",
              "\n",
              "    .dataframe tbody tr th {\n",
              "        vertical-align: top;\n",
              "    }\n",
              "\n",
              "    .dataframe thead th {\n",
              "        text-align: right;\n",
              "    }\n",
              "</style>\n",
              "<table border=\"1\" class=\"dataframe\">\n",
              "  <thead>\n",
              "    <tr style=\"text-align: right;\">\n",
              "      <th></th>\n",
              "      <th>PassengerId</th>\n",
              "      <th>Survived</th>\n",
              "      <th>Pclass</th>\n",
              "      <th>Age</th>\n",
              "      <th>SibSp</th>\n",
              "      <th>Parch</th>\n",
              "      <th>Fare</th>\n",
              "    </tr>\n",
              "  </thead>\n",
              "  <tbody>\n",
              "    <tr>\n",
              "      <th>count</th>\n",
              "      <td>891.000000</td>\n",
              "      <td>891.000000</td>\n",
              "      <td>891.000000</td>\n",
              "      <td>714.000000</td>\n",
              "      <td>891.000000</td>\n",
              "      <td>891.000000</td>\n",
              "      <td>891.000000</td>\n",
              "    </tr>\n",
              "    <tr>\n",
              "      <th>mean</th>\n",
              "      <td>446.000000</td>\n",
              "      <td>0.383838</td>\n",
              "      <td>2.308642</td>\n",
              "      <td>29.699118</td>\n",
              "      <td>0.523008</td>\n",
              "      <td>0.381594</td>\n",
              "      <td>32.204208</td>\n",
              "    </tr>\n",
              "    <tr>\n",
              "      <th>std</th>\n",
              "      <td>257.353842</td>\n",
              "      <td>0.486592</td>\n",
              "      <td>0.836071</td>\n",
              "      <td>14.526497</td>\n",
              "      <td>1.102743</td>\n",
              "      <td>0.806057</td>\n",
              "      <td>49.693429</td>\n",
              "    </tr>\n",
              "    <tr>\n",
              "      <th>min</th>\n",
              "      <td>1.000000</td>\n",
              "      <td>0.000000</td>\n",
              "      <td>1.000000</td>\n",
              "      <td>0.420000</td>\n",
              "      <td>0.000000</td>\n",
              "      <td>0.000000</td>\n",
              "      <td>0.000000</td>\n",
              "    </tr>\n",
              "    <tr>\n",
              "      <th>25%</th>\n",
              "      <td>223.500000</td>\n",
              "      <td>0.000000</td>\n",
              "      <td>2.000000</td>\n",
              "      <td>20.125000</td>\n",
              "      <td>0.000000</td>\n",
              "      <td>0.000000</td>\n",
              "      <td>7.910400</td>\n",
              "    </tr>\n",
              "    <tr>\n",
              "      <th>50%</th>\n",
              "      <td>446.000000</td>\n",
              "      <td>0.000000</td>\n",
              "      <td>3.000000</td>\n",
              "      <td>28.000000</td>\n",
              "      <td>0.000000</td>\n",
              "      <td>0.000000</td>\n",
              "      <td>14.454200</td>\n",
              "    </tr>\n",
              "    <tr>\n",
              "      <th>75%</th>\n",
              "      <td>668.500000</td>\n",
              "      <td>1.000000</td>\n",
              "      <td>3.000000</td>\n",
              "      <td>38.000000</td>\n",
              "      <td>1.000000</td>\n",
              "      <td>0.000000</td>\n",
              "      <td>31.000000</td>\n",
              "    </tr>\n",
              "    <tr>\n",
              "      <th>max</th>\n",
              "      <td>891.000000</td>\n",
              "      <td>1.000000</td>\n",
              "      <td>3.000000</td>\n",
              "      <td>80.000000</td>\n",
              "      <td>8.000000</td>\n",
              "      <td>6.000000</td>\n",
              "      <td>512.329200</td>\n",
              "    </tr>\n",
              "  </tbody>\n",
              "</table>\n",
              "</div>"
            ],
            "text/plain": [
              "       PassengerId    Survived      Pclass  ...       SibSp       Parch        Fare\n",
              "count   891.000000  891.000000  891.000000  ...  891.000000  891.000000  891.000000\n",
              "mean    446.000000    0.383838    2.308642  ...    0.523008    0.381594   32.204208\n",
              "std     257.353842    0.486592    0.836071  ...    1.102743    0.806057   49.693429\n",
              "min       1.000000    0.000000    1.000000  ...    0.000000    0.000000    0.000000\n",
              "25%     223.500000    0.000000    2.000000  ...    0.000000    0.000000    7.910400\n",
              "50%     446.000000    0.000000    3.000000  ...    0.000000    0.000000   14.454200\n",
              "75%     668.500000    1.000000    3.000000  ...    1.000000    0.000000   31.000000\n",
              "max     891.000000    1.000000    3.000000  ...    8.000000    6.000000  512.329200\n",
              "\n",
              "[8 rows x 7 columns]"
            ]
          },
          "metadata": {
            "tags": []
          },
          "execution_count": 51
        }
      ]
    },
    {
      "cell_type": "markdown",
      "metadata": {
        "id": "Z1v00jqkuKcJ"
      },
      "source": [
        "## Data analysis"
      ]
    },
    {
      "cell_type": "code",
      "metadata": {
        "id": "ZKiuo4IsuMwh",
        "colab": {
          "base_uri": "https://localhost:8080/",
          "height": 350
        },
        "outputId": "eb3f4d9e-044c-4839-84d3-41aca1ebe400"
      },
      "source": [
        "sns.countplot(train_data['Survived'])"
      ],
      "execution_count": 52,
      "outputs": [
        {
          "output_type": "stream",
          "text": [
            "/usr/local/lib/python3.6/dist-packages/seaborn/_decorators.py:43: FutureWarning: Pass the following variable as a keyword arg: x. From version 0.12, the only valid positional argument will be `data`, and passing other arguments without an explicit keyword will result in an error or misinterpretation.\n",
            "  FutureWarning\n"
          ],
          "name": "stderr"
        },
        {
          "output_type": "execute_result",
          "data": {
            "text/plain": [
              "<matplotlib.axes._subplots.AxesSubplot at 0x7fb113844630>"
            ]
          },
          "metadata": {
            "tags": []
          },
          "execution_count": 52
        },
        {
          "output_type": "display_data",
          "data": {
            "image/png": "[encoded data removed]",
            "text/plain": [
              "<Figure size 432x288 with 1 Axes>"
            ]
          },
          "metadata": {
            "tags": [],
            "needs_background": "light"
          }
        }
      ]
    },
    {
      "cell_type": "code",
      "metadata": {
        "id": "F1m8JHhLuS1b",
        "colab": {
          "base_uri": "https://localhost:8080/"
        },
        "outputId": "1f6946c9-056b-44b7-ae72-dbc9358e6096"
      },
      "source": [
        "len(train_data)"
      ],
      "execution_count": 53,
      "outputs": [
        {
          "output_type": "execute_result",
          "data": {
            "text/plain": [
              "891"
            ]
          },
          "metadata": {
            "tags": []
          },
          "execution_count": 53
        }
      ]
    },
    {
      "cell_type": "markdown",
      "metadata": {
        "id": "eQZFBzX1uYQk"
      },
      "source": [
        "## Selecting rows and cols"
      ]
    },
    {
      "cell_type": "code",
      "metadata": {
        "id": "iawwBp3UuVTh",
        "colab": {
          "base_uri": "https://localhost:8080/"
        },
        "outputId": "ff12aa3d-4efe-4fea-82cd-f084b2a5816b"
      },
      "source": [
        "train_data['Survived']"
      ],
      "execution_count": 54,
      "outputs": [
        {
          "output_type": "execute_result",
          "data": {
            "text/plain": [
              "0      0\n",
              "1      1\n",
              "2      1\n",
              "3      1\n",
              "4      0\n",
              "      ..\n",
              "886    0\n",
              "887    1\n",
              "888    0\n",
              "889    1\n",
              "890    0\n",
              "Name: Survived, Length: 891, dtype: int64"
            ]
          },
          "metadata": {
            "tags": []
          },
          "execution_count": 54
        }
      ]
    },
    {
      "cell_type": "code",
      "metadata": {
        "id": "-WpEXCFJuXIj",
        "colab": {
          "base_uri": "https://localhost:8080/",
          "height": 402
        },
        "outputId": "f829a5ab-79a7-452b-f5fd-0fbfb92d8e10"
      },
      "source": [
        "# selecting multiple cols\r\n",
        "train_data[['Sex','Name','Age','Survived']]"
      ],
      "execution_count": 55,
      "outputs": [
        {
          "output_type": "execute_result",
          "data": {
            "text/html": [
              "<div>\n",
              "<style scoped>\n",
              "    .dataframe tbody tr th:only-of-type {\n",
              "        vertical-align: middle;\n",
              "    }\n",
              "\n",
              "    .dataframe tbody tr th {\n",
              "        vertical-align: top;\n",
              "    }\n",
              "\n",
              "    .dataframe thead th {\n",
              "        text-align: right;\n",
              "    }\n",
              "</style>\n",
              "<table border=\"1\" class=\"dataframe\">\n",
              "  <thead>\n",
              "    <tr style=\"text-align: right;\">\n",
              "      <th></th>\n",
              "      <th>Sex</th>\n",
              "      <th>Name</th>\n",
              "      <th>Age</th>\n",
              "      <th>Survived</th>\n",
              "    </tr>\n",
              "  </thead>\n",
              "  <tbody>\n",
              "    <tr>\n",
              "      <th>0</th>\n",
              "      <td>male</td>\n",
              "      <td>Braund, Mr. Owen Harris</td>\n",
              "      <td>22.0</td>\n",
              "      <td>0</td>\n",
              "    </tr>\n",
              "    <tr>\n",
              "      <th>1</th>\n",
              "      <td>female</td>\n",
              "      <td>Cumings, Mrs. John Bradley (Florence Briggs Th...</td>\n",
              "      <td>38.0</td>\n",
              "      <td>1</td>\n",
              "    </tr>\n",
              "    <tr>\n",
              "      <th>2</th>\n",
              "      <td>female</td>\n",
              "      <td>Heikkinen, Miss. Laina</td>\n",
              "      <td>26.0</td>\n",
              "      <td>1</td>\n",
              "    </tr>\n",
              "    <tr>\n",
              "      <th>3</th>\n",
              "      <td>female</td>\n",
              "      <td>Futrelle, Mrs. Jacques Heath (Lily May Peel)</td>\n",
              "      <td>35.0</td>\n",
              "      <td>1</td>\n",
              "    </tr>\n",
              "    <tr>\n",
              "      <th>4</th>\n",
              "      <td>male</td>\n",
              "      <td>Allen, Mr. William Henry</td>\n",
              "      <td>35.0</td>\n",
              "      <td>0</td>\n",
              "    </tr>\n",
              "    <tr>\n",
              "      <th>...</th>\n",
              "      <td>...</td>\n",
              "      <td>...</td>\n",
              "      <td>...</td>\n",
              "      <td>...</td>\n",
              "    </tr>\n",
              "    <tr>\n",
              "      <th>886</th>\n",
              "      <td>male</td>\n",
              "      <td>Montvila, Rev. Juozas</td>\n",
              "      <td>27.0</td>\n",
              "      <td>0</td>\n",
              "    </tr>\n",
              "    <tr>\n",
              "      <th>887</th>\n",
              "      <td>female</td>\n",
              "      <td>Graham, Miss. Margaret Edith</td>\n",
              "      <td>19.0</td>\n",
              "      <td>1</td>\n",
              "    </tr>\n",
              "    <tr>\n",
              "      <th>888</th>\n",
              "      <td>female</td>\n",
              "      <td>Johnston, Miss. Catherine Helen \"Carrie\"</td>\n",
              "      <td>NaN</td>\n",
              "      <td>0</td>\n",
              "    </tr>\n",
              "    <tr>\n",
              "      <th>889</th>\n",
              "      <td>male</td>\n",
              "      <td>Behr, Mr. Karl Howell</td>\n",
              "      <td>26.0</td>\n",
              "      <td>1</td>\n",
              "    </tr>\n",
              "    <tr>\n",
              "      <th>890</th>\n",
              "      <td>male</td>\n",
              "      <td>Dooley, Mr. Patrick</td>\n",
              "      <td>32.0</td>\n",
              "      <td>0</td>\n",
              "    </tr>\n",
              "  </tbody>\n",
              "</table>\n",
              "<p>891 rows × 4 columns</p>\n",
              "</div>"
            ],
            "text/plain": [
              "        Sex                                               Name   Age  Survived\n",
              "0      male                            Braund, Mr. Owen Harris  22.0         0\n",
              "1    female  Cumings, Mrs. John Bradley (Florence Briggs Th...  38.0         1\n",
              "2    female                             Heikkinen, Miss. Laina  26.0         1\n",
              "3    female       Futrelle, Mrs. Jacques Heath (Lily May Peel)  35.0         1\n",
              "4      male                           Allen, Mr. William Henry  35.0         0\n",
              "..      ...                                                ...   ...       ...\n",
              "886    male                              Montvila, Rev. Juozas  27.0         0\n",
              "887  female                       Graham, Miss. Margaret Edith  19.0         1\n",
              "888  female           Johnston, Miss. Catherine Helen \"Carrie\"   NaN         0\n",
              "889    male                              Behr, Mr. Karl Howell  26.0         1\n",
              "890    male                                Dooley, Mr. Patrick  32.0         0\n",
              "\n",
              "[891 rows x 4 columns]"
            ]
          },
          "metadata": {
            "tags": []
          },
          "execution_count": 55
        }
      ]
    },
    {
      "cell_type": "code",
      "metadata": {
        "id": "sD4S1u4TugL7",
        "colab": {
          "base_uri": "https://localhost:8080/",
          "height": 210
        },
        "outputId": "733e82d3-77cc-48e3-8d30-54b5c0d6c556"
      },
      "source": [
        "# selecting rows\r\n",
        "train_data.iloc[886:888]"
      ],
      "execution_count": 56,
      "outputs": [
        {
          "output_type": "execute_result",
          "data": {
            "text/html": [
              "<div>\n",
              "<style scoped>\n",
              "    .dataframe tbody tr th:only-of-type {\n",
              "        vertical-align: middle;\n",
              "    }\n",
              "\n",
              "    .dataframe tbody tr th {\n",
              "        vertical-align: top;\n",
              "    }\n",
              "\n",
              "    .dataframe thead th {\n",
              "        text-align: right;\n",
              "    }\n",
              "</style>\n",
              "<table border=\"1\" class=\"dataframe\">\n",
              "  <thead>\n",
              "    <tr style=\"text-align: right;\">\n",
              "      <th></th>\n",
              "      <th>PassengerId</th>\n",
              "      <th>Survived</th>\n",
              "      <th>Pclass</th>\n",
              "      <th>Name</th>\n",
              "      <th>Sex</th>\n",
              "      <th>Age</th>\n",
              "      <th>SibSp</th>\n",
              "      <th>Parch</th>\n",
              "      <th>Ticket</th>\n",
              "      <th>Fare</th>\n",
              "      <th>Cabin</th>\n",
              "      <th>Embarked</th>\n",
              "    </tr>\n",
              "  </thead>\n",
              "  <tbody>\n",
              "    <tr>\n",
              "      <th>886</th>\n",
              "      <td>887</td>\n",
              "      <td>0</td>\n",
              "      <td>2</td>\n",
              "      <td>Montvila, Rev. Juozas</td>\n",
              "      <td>male</td>\n",
              "      <td>27.0</td>\n",
              "      <td>0</td>\n",
              "      <td>0</td>\n",
              "      <td>211536</td>\n",
              "      <td>13.0</td>\n",
              "      <td>NaN</td>\n",
              "      <td>S</td>\n",
              "    </tr>\n",
              "    <tr>\n",
              "      <th>887</th>\n",
              "      <td>888</td>\n",
              "      <td>1</td>\n",
              "      <td>1</td>\n",
              "      <td>Graham, Miss. Margaret Edith</td>\n",
              "      <td>female</td>\n",
              "      <td>19.0</td>\n",
              "      <td>0</td>\n",
              "      <td>0</td>\n",
              "      <td>112053</td>\n",
              "      <td>30.0</td>\n",
              "      <td>B42</td>\n",
              "      <td>S</td>\n",
              "    </tr>\n",
              "  </tbody>\n",
              "</table>\n",
              "</div>"
            ],
            "text/plain": [
              "     PassengerId  Survived  Pclass  ...  Fare Cabin  Embarked\n",
              "886          887         0       2  ...  13.0   NaN         S\n",
              "887          888         1       1  ...  30.0   B42         S\n",
              "\n",
              "[2 rows x 12 columns]"
            ]
          },
          "metadata": {
            "tags": []
          },
          "execution_count": 56
        }
      ]
    },
    {
      "cell_type": "markdown",
      "metadata": {
        "id": "oORPgZUSujuS"
      },
      "source": [
        "## Sex survived and died"
      ]
    },
    {
      "cell_type": "code",
      "metadata": {
        "id": "oCUoSKFMumEd",
        "colab": {
          "base_uri": "https://localhost:8080/",
          "height": 136
        },
        "outputId": "f61b8ad1-add1-455c-ffe7-c3d02b5ee8b0"
      },
      "source": [
        "train_data[['Sex','Survived']].groupby(['Sex']).mean() # note column names are case sensitive"
      ],
      "execution_count": 57,
      "outputs": [
        {
          "output_type": "execute_result",
          "data": {
            "text/html": [
              "<div>\n",
              "<style scoped>\n",
              "    .dataframe tbody tr th:only-of-type {\n",
              "        vertical-align: middle;\n",
              "    }\n",
              "\n",
              "    .dataframe tbody tr th {\n",
              "        vertical-align: top;\n",
              "    }\n",
              "\n",
              "    .dataframe thead th {\n",
              "        text-align: right;\n",
              "    }\n",
              "</style>\n",
              "<table border=\"1\" class=\"dataframe\">\n",
              "  <thead>\n",
              "    <tr style=\"text-align: right;\">\n",
              "      <th></th>\n",
              "      <th>Survived</th>\n",
              "    </tr>\n",
              "    <tr>\n",
              "      <th>Sex</th>\n",
              "      <th></th>\n",
              "    </tr>\n",
              "  </thead>\n",
              "  <tbody>\n",
              "    <tr>\n",
              "      <th>female</th>\n",
              "      <td>0.742038</td>\n",
              "    </tr>\n",
              "    <tr>\n",
              "      <th>male</th>\n",
              "      <td>0.188908</td>\n",
              "    </tr>\n",
              "  </tbody>\n",
              "</table>\n",
              "</div>"
            ],
            "text/plain": [
              "        Survived\n",
              "Sex             \n",
              "female  0.742038\n",
              "male    0.188908"
            ]
          },
          "metadata": {
            "tags": []
          },
          "execution_count": 57
        }
      ]
    },
    {
      "cell_type": "markdown",
      "metadata": {
        "id": "2HQwjb6PuphZ"
      },
      "source": [
        "## Age survived"
      ]
    },
    {
      "cell_type": "code",
      "metadata": {
        "id": "p4OD1LAzuqdH",
        "colab": {
          "base_uri": "https://localhost:8080/",
          "height": 312
        },
        "outputId": "3085fce1-5ce6-4449-e463-504d5320de52"
      },
      "source": [
        "g = sns.FacetGrid(train_data, col = 'Survived')\r\n",
        "g.map(sns.distplot, 'Age', bins = 5) # bins = interval\r\n",
        "plt.show()"
      ],
      "execution_count": 58,
      "outputs": [
        {
          "output_type": "stream",
          "text": [
            "/usr/local/lib/python3.6/dist-packages/seaborn/distributions.py:2551: FutureWarning: `distplot` is a deprecated function and will be removed in a future version. Please adapt your code to use either `displot` (a figure-level function with similar flexibility) or `histplot` (an axes-level function for histograms).\n",
            "  warnings.warn(msg, FutureWarning)\n",
            "/usr/local/lib/python3.6/dist-packages/seaborn/distributions.py:2551: FutureWarning: `distplot` is a deprecated function and will be removed in a future version. Please adapt your code to use either `displot` (a figure-level function with similar flexibility) or `histplot` (an axes-level function for histograms).\n",
            "  warnings.warn(msg, FutureWarning)\n"
          ],
          "name": "stderr"
        },
        {
          "output_type": "display_data",
          "data": {
            "image/png": "[encoded data removed]",
            "text/plain": [
              "<Figure size 432x216 with 2 Axes>"
            ]
          },
          "metadata": {
            "tags": [],
            "needs_background": "light"
          }
        }
      ]
    },
    {
      "cell_type": "markdown",
      "metadata": {
        "id": "T-ptP-SouuEg"
      },
      "source": [
        "## Analyzing Pclass"
      ]
    },
    {
      "cell_type": "code",
      "metadata": {
        "id": "lzdCgmxbuwcH",
        "colab": {
          "base_uri": "https://localhost:8080/",
          "height": 454
        },
        "outputId": "3c0fbd2c-67df-4233-ee97-329937062d5d"
      },
      "source": [
        "sns.factorplot(x='Pclass', y = 'Survived', data= train_data, kind = \"bar\")"
      ],
      "execution_count": 59,
      "outputs": [
        {
          "output_type": "stream",
          "text": [
            "/usr/local/lib/python3.6/dist-packages/seaborn/categorical.py:3704: UserWarning: The `factorplot` function has been renamed to `catplot`. The original name will be removed in a future release. Please update your code. Note that the default `kind` in `factorplot` (`'point'`) has changed `'strip'` in `catplot`.\n",
            "  warnings.warn(msg)\n"
          ],
          "name": "stderr"
        },
        {
          "output_type": "execute_result",
          "data": {
            "text/plain": [
              "<seaborn.axisgrid.FacetGrid at 0x7fb113a24780>"
            ]
          },
          "metadata": {
            "tags": []
          },
          "execution_count": 59
        },
        {
          "output_type": "display_data",
          "data": {
            "image/png": "[encoded data removed]",
            "text/plain": [
              "<Figure size 360x360 with 1 Axes>"
            ]
          },
          "metadata": {
            "tags": [],
            "needs_background": "light"
          }
        }
      ]
    },
    {
      "cell_type": "markdown",
      "metadata": {
        "id": "vn9CNozmuz-7"
      },
      "source": [
        "## Embarked \r\n"
      ]
    },
    {
      "cell_type": "code",
      "metadata": {
        "id": "XpjxnkCpu2o2",
        "colab": {
          "base_uri": "https://localhost:8080/",
          "height": 454
        },
        "outputId": "1e1b065e-04e3-4ad4-d099-1a1de54176be"
      },
      "source": [
        "sns.factorplot(x='Embarked' , y = 'Survived' , data = train_data, kind='bar')"
      ],
      "execution_count": 60,
      "outputs": [
        {
          "output_type": "stream",
          "text": [
            "/usr/local/lib/python3.6/dist-packages/seaborn/categorical.py:3704: UserWarning: The `factorplot` function has been renamed to `catplot`. The original name will be removed in a future release. Please update your code. Note that the default `kind` in `factorplot` (`'point'`) has changed `'strip'` in `catplot`.\n",
            "  warnings.warn(msg)\n"
          ],
          "name": "stderr"
        },
        {
          "output_type": "execute_result",
          "data": {
            "text/plain": [
              "<seaborn.axisgrid.FacetGrid at 0x7fb113660470>"
            ]
          },
          "metadata": {
            "tags": []
          },
          "execution_count": 60
        },
        {
          "output_type": "display_data",
          "data": {
            "image/png": "[encoded data removed]",
            "text/plain": [
              "<Figure size 360x360 with 1 Axes>"
            ]
          },
          "metadata": {
            "tags": [],
            "needs_background": "light"
          }
        }
      ]
    },
    {
      "cell_type": "code",
      "metadata": {
        "id": "_kToTOLUu7Od",
        "colab": {
          "base_uri": "https://localhost:8080/",
          "height": 909
        },
        "outputId": "d49c402c-67ae-4118-e45a-920880b4ec63"
      },
      "source": [
        "train_data "
      ],
      "execution_count": 61,
      "outputs": [
        {
          "output_type": "execute_result",
          "data": {
            "text/html": [
              "<div>\n",
              "<style scoped>\n",
              "    .dataframe tbody tr th:only-of-type {\n",
              "        vertical-align: middle;\n",
              "    }\n",
              "\n",
              "    .dataframe tbody tr th {\n",
              "        vertical-align: top;\n",
              "    }\n",
              "\n",
              "    .dataframe thead th {\n",
              "        text-align: right;\n",
              "    }\n",
              "</style>\n",
              "<table border=\"1\" class=\"dataframe\">\n",
              "  <thead>\n",
              "    <tr style=\"text-align: right;\">\n",
              "      <th></th>\n",
              "      <th>PassengerId</th>\n",
              "      <th>Survived</th>\n",
              "      <th>Pclass</th>\n",
              "      <th>Name</th>\n",
              "      <th>Sex</th>\n",
              "      <th>Age</th>\n",
              "      <th>SibSp</th>\n",
              "      <th>Parch</th>\n",
              "      <th>Ticket</th>\n",
              "      <th>Fare</th>\n",
              "      <th>Cabin</th>\n",
              "      <th>Embarked</th>\n",
              "    </tr>\n",
              "  </thead>\n",
              "  <tbody>\n",
              "    <tr>\n",
              "      <th>0</th>\n",
              "      <td>1</td>\n",
              "      <td>0</td>\n",
              "      <td>3</td>\n",
              "      <td>Braund, Mr. Owen Harris</td>\n",
              "      <td>male</td>\n",
              "      <td>22.0</td>\n",
              "      <td>1</td>\n",
              "      <td>0</td>\n",
              "      <td>A/5 21171</td>\n",
              "      <td>7.2500</td>\n",
              "      <td>NaN</td>\n",
              "      <td>S</td>\n",
              "    </tr>\n",
              "    <tr>\n",
              "      <th>1</th>\n",
              "      <td>2</td>\n",
              "      <td>1</td>\n",
              "      <td>1</td>\n",
              "      <td>Cumings, Mrs. John Bradley (Florence Briggs Th...</td>\n",
              "      <td>female</td>\n",
              "      <td>38.0</td>\n",
              "      <td>1</td>\n",
              "      <td>0</td>\n",
              "      <td>PC 17599</td>\n",
              "      <td>71.2833</td>\n",
              "      <td>C85</td>\n",
              "      <td>C</td>\n",
              "    </tr>\n",
              "    <tr>\n",
              "      <th>2</th>\n",
              "      <td>3</td>\n",
              "      <td>1</td>\n",
              "      <td>3</td>\n",
              "      <td>Heikkinen, Miss. Laina</td>\n",
              "      <td>female</td>\n",
              "      <td>26.0</td>\n",
              "      <td>0</td>\n",
              "      <td>0</td>\n",
              "      <td>STON/O2. 3101282</td>\n",
              "      <td>7.9250</td>\n",
              "      <td>NaN</td>\n",
              "      <td>S</td>\n",
              "    </tr>\n",
              "    <tr>\n",
              "      <th>3</th>\n",
              "      <td>4</td>\n",
              "      <td>1</td>\n",
              "      <td>1</td>\n",
              "      <td>Futrelle, Mrs. Jacques Heath (Lily May Peel)</td>\n",
              "      <td>female</td>\n",
              "      <td>35.0</td>\n",
              "      <td>1</td>\n",
              "      <td>0</td>\n",
              "      <td>113803</td>\n",
              "      <td>53.1000</td>\n",
              "      <td>C123</td>\n",
              "      <td>S</td>\n",
              "    </tr>\n",
              "    <tr>\n",
              "      <th>4</th>\n",
              "      <td>5</td>\n",
              "      <td>0</td>\n",
              "      <td>3</td>\n",
              "      <td>Allen, Mr. William Henry</td>\n",
              "      <td>male</td>\n",
              "      <td>35.0</td>\n",
              "      <td>0</td>\n",
              "      <td>0</td>\n",
              "      <td>373450</td>\n",
              "      <td>8.0500</td>\n",
              "      <td>NaN</td>\n",
              "      <td>S</td>\n",
              "    </tr>\n",
              "    <tr>\n",
              "      <th>...</th>\n",
              "      <td>...</td>\n",
              "      <td>...</td>\n",
              "      <td>...</td>\n",
              "      <td>...</td>\n",
              "      <td>...</td>\n",
              "      <td>...</td>\n",
              "      <td>...</td>\n",
              "      <td>...</td>\n",
              "      <td>...</td>\n",
              "      <td>...</td>\n",
              "      <td>...</td>\n",
              "      <td>...</td>\n",
              "    </tr>\n",
              "    <tr>\n",
              "      <th>886</th>\n",
              "      <td>887</td>\n",
              "      <td>0</td>\n",
              "      <td>2</td>\n",
              "      <td>Montvila, Rev. Juozas</td>\n",
              "      <td>male</td>\n",
              "      <td>27.0</td>\n",
              "      <td>0</td>\n",
              "      <td>0</td>\n",
              "      <td>211536</td>\n",
              "      <td>13.0000</td>\n",
              "      <td>NaN</td>\n",
              "      <td>S</td>\n",
              "    </tr>\n",
              "    <tr>\n",
              "      <th>887</th>\n",
              "      <td>888</td>\n",
              "      <td>1</td>\n",
              "      <td>1</td>\n",
              "      <td>Graham, Miss. Margaret Edith</td>\n",
              "      <td>female</td>\n",
              "      <td>19.0</td>\n",
              "      <td>0</td>\n",
              "      <td>0</td>\n",
              "      <td>112053</td>\n",
              "      <td>30.0000</td>\n",
              "      <td>B42</td>\n",
              "      <td>S</td>\n",
              "    </tr>\n",
              "    <tr>\n",
              "      <th>888</th>\n",
              "      <td>889</td>\n",
              "      <td>0</td>\n",
              "      <td>3</td>\n",
              "      <td>Johnston, Miss. Catherine Helen \"Carrie\"</td>\n",
              "      <td>female</td>\n",
              "      <td>NaN</td>\n",
              "      <td>1</td>\n",
              "      <td>2</td>\n",
              "      <td>W./C. 6607</td>\n",
              "      <td>23.4500</td>\n",
              "      <td>NaN</td>\n",
              "      <td>S</td>\n",
              "    </tr>\n",
              "    <tr>\n",
              "      <th>889</th>\n",
              "      <td>890</td>\n",
              "      <td>1</td>\n",
              "      <td>1</td>\n",
              "      <td>Behr, Mr. Karl Howell</td>\n",
              "      <td>male</td>\n",
              "      <td>26.0</td>\n",
              "      <td>0</td>\n",
              "      <td>0</td>\n",
              "      <td>111369</td>\n",
              "      <td>30.0000</td>\n",
              "      <td>C148</td>\n",
              "      <td>C</td>\n",
              "    </tr>\n",
              "    <tr>\n",
              "      <th>890</th>\n",
              "      <td>891</td>\n",
              "      <td>0</td>\n",
              "      <td>3</td>\n",
              "      <td>Dooley, Mr. Patrick</td>\n",
              "      <td>male</td>\n",
              "      <td>32.0</td>\n",
              "      <td>0</td>\n",
              "      <td>0</td>\n",
              "      <td>370376</td>\n",
              "      <td>7.7500</td>\n",
              "      <td>NaN</td>\n",
              "      <td>Q</td>\n",
              "    </tr>\n",
              "  </tbody>\n",
              "</table>\n",
              "<p>891 rows × 12 columns</p>\n",
              "</div>"
            ],
            "text/plain": [
              "     PassengerId  Survived  Pclass  ...     Fare Cabin  Embarked\n",
              "0              1         0       3  ...   7.2500   NaN         S\n",
              "1              2         1       1  ...  71.2833   C85         C\n",
              "2              3         1       3  ...   7.9250   NaN         S\n",
              "3              4         1       1  ...  53.1000  C123         S\n",
              "4              5         0       3  ...   8.0500   NaN         S\n",
              "..           ...       ...     ...  ...      ...   ...       ...\n",
              "886          887         0       2  ...  13.0000   NaN         S\n",
              "887          888         1       1  ...  30.0000   B42         S\n",
              "888          889         0       3  ...  23.4500   NaN         S\n",
              "889          890         1       1  ...  30.0000  C148         C\n",
              "890          891         0       3  ...   7.7500   NaN         Q\n",
              "\n",
              "[891 rows x 12 columns]"
            ]
          },
          "metadata": {
            "tags": []
          },
          "execution_count": 61
        }
      ]
    },
    {
      "cell_type": "markdown",
      "metadata": {
        "id": "qQczi6pIu_XZ"
      },
      "source": [
        "## Handling missnig values"
      ]
    },
    {
      "cell_type": "code",
      "metadata": {
        "id": "w1LXk96avATZ",
        "colab": {
          "base_uri": "https://localhost:8080/"
        },
        "outputId": "404d3d27-1897-4551-b9a7-f9744f747339"
      },
      "source": [
        "train_data.columns[train_data.isnull().any()]"
      ],
      "execution_count": 62,
      "outputs": [
        {
          "output_type": "execute_result",
          "data": {
            "text/plain": [
              "Index(['Age', 'Cabin', 'Embarked'], dtype='object')"
            ]
          },
          "metadata": {
            "tags": []
          },
          "execution_count": 62
        }
      ]
    },
    {
      "cell_type": "code",
      "metadata": {
        "id": "JJSZaHsXvDPg",
        "colab": {
          "base_uri": "https://localhost:8080/",
          "height": 162
        },
        "outputId": "2d370fb5-3536-47c6-fd1e-1a1cf46c0db1"
      },
      "source": [
        "data.isnull().sum()"
      ],
      "execution_count": 64,
      "outputs": [
        {
          "output_type": "error",
          "ename": "NameError",
          "evalue": "ignored",
          "traceback": [
            "\u001b[0;31m---------------------------------------------------------------------------\u001b[0m",
            "\u001b[0;31mNameError\u001b[0m                                 Traceback (most recent call last)",
            "\u001b[0;32m<ipython-input-64-2962204f287d>\u001b[0m in \u001b[0;36m<module>\u001b[0;34m()\u001b[0m\n\u001b[0;32m----> 1\u001b[0;31m \u001b[0mdata\u001b[0m\u001b[0;34m.\u001b[0m\u001b[0misnull\u001b[0m\u001b[0;34m(\u001b[0m\u001b[0;34m)\u001b[0m\u001b[0;34m.\u001b[0m\u001b[0msum\u001b[0m\u001b[0;34m(\u001b[0m\u001b[0;34m)\u001b[0m\u001b[0;34m\u001b[0m\u001b[0;34m\u001b[0m\u001b[0m\n\u001b[0m",
            "\u001b[0;31mNameError\u001b[0m: name 'data' is not defined"
          ]
        }
      ]
    },
    {
      "cell_type": "markdown",
      "metadata": {
        "id": "iqkhsDLIvF3h"
      },
      "source": [
        "## Combining two dataset train and test"
      ]
    },
    {
      "cell_type": "code",
      "metadata": {
        "id": "QZtxg-RgvH7t"
      },
      "source": [
        "data = pd.concat([train_data, test_data], axis=0).reset_index(drop=True) # note T uppercase in True"
      ],
      "execution_count": 65,
      "outputs": []
    },
    {
      "cell_type": "code",
      "metadata": {
        "id": "lCN34NgFvLbm",
        "colab": {
          "base_uri": "https://localhost:8080/"
        },
        "outputId": "42d6eee2-b372-47c2-8736-03fa27be84aa"
      },
      "source": [
        "# skip this\r\n",
        "print('Combined train and test data', len(train_data),len(test_data),len(data))"
      ],
      "execution_count": 66,
      "outputs": [
        {
          "output_type": "stream",
          "text": [
            "Combined train and test data 891 418 1309\n"
          ],
          "name": "stdout"
        }
      ]
    },
    {
      "cell_type": "markdown",
      "metadata": {
        "id": "mmusbvisvNbT"
      },
      "source": [
        "## Filling missing values"
      ]
    },
    {
      "cell_type": "code",
      "metadata": {
        "id": "im3Y3vptvQT9",
        "colab": {
          "base_uri": "https://localhost:8080/"
        },
        "outputId": "b5a71e1d-3dc6-46f2-f011-4444b246adef"
      },
      "source": [
        "data['Fare'].isnull().sum()"
      ],
      "execution_count": 67,
      "outputs": [
        {
          "output_type": "execute_result",
          "data": {
            "text/plain": [
              "1"
            ]
          },
          "metadata": {
            "tags": []
          },
          "execution_count": 67
        }
      ]
    },
    {
      "cell_type": "code",
      "metadata": {
        "id": "4x5w48EQvOub",
        "colab": {
          "base_uri": "https://localhost:8080/"
        },
        "outputId": "7575d154-4839-4454-e00c-acb961c78cc5"
      },
      "source": [
        "np.mean(data['Fare'])"
      ],
      "execution_count": 68,
      "outputs": [
        {
          "output_type": "execute_result",
          "data": {
            "text/plain": [
              "33.2954792813456"
            ]
          },
          "metadata": {
            "tags": []
          },
          "execution_count": 68
        }
      ]
    },
    {
      "cell_type": "code",
      "metadata": {
        "id": "PgnfvrR3vYzy"
      },
      "source": [
        "data['Fare'] = data['Fare'].fillna(np.mean(data['Fare'])) #todo # 33.2954792813456"
      ],
      "execution_count": 69,
      "outputs": []
    },
    {
      "cell_type": "code",
      "metadata": {
        "id": "U1Mm4S_cvayT",
        "colab": {
          "base_uri": "https://localhost:8080/"
        },
        "outputId": "5dcf15f2-54ee-47d7-ff79-788f7f00c56c"
      },
      "source": [
        "data['Fare'].isnull().sum() #optional"
      ],
      "execution_count": 70,
      "outputs": [
        {
          "output_type": "execute_result",
          "data": {
            "text/plain": [
              "0"
            ]
          },
          "metadata": {
            "tags": []
          },
          "execution_count": 70
        }
      ]
    },
    {
      "cell_type": "code",
      "metadata": {
        "id": "g1g3AxmuvdTZ",
        "colab": {
          "base_uri": "https://localhost:8080/",
          "height": 244
        },
        "outputId": "b33c0274-f1cf-44e1-8e65-45b71e60066b"
      },
      "source": [
        "## Filling missing value of Embarked\r\n",
        "\r\n",
        "data[data['Embarked'].isnull()]"
      ],
      "execution_count": 71,
      "outputs": [
        {
          "output_type": "execute_result",
          "data": {
            "text/html": [
              "<div>\n",
              "<style scoped>\n",
              "    .dataframe tbody tr th:only-of-type {\n",
              "        vertical-align: middle;\n",
              "    }\n",
              "\n",
              "    .dataframe tbody tr th {\n",
              "        vertical-align: top;\n",
              "    }\n",
              "\n",
              "    .dataframe thead th {\n",
              "        text-align: right;\n",
              "    }\n",
              "</style>\n",
              "<table border=\"1\" class=\"dataframe\">\n",
              "  <thead>\n",
              "    <tr style=\"text-align: right;\">\n",
              "      <th></th>\n",
              "      <th>PassengerId</th>\n",
              "      <th>Survived</th>\n",
              "      <th>Pclass</th>\n",
              "      <th>Name</th>\n",
              "      <th>Sex</th>\n",
              "      <th>Age</th>\n",
              "      <th>SibSp</th>\n",
              "      <th>Parch</th>\n",
              "      <th>Ticket</th>\n",
              "      <th>Fare</th>\n",
              "      <th>Cabin</th>\n",
              "      <th>Embarked</th>\n",
              "    </tr>\n",
              "  </thead>\n",
              "  <tbody>\n",
              "    <tr>\n",
              "      <th>61</th>\n",
              "      <td>62</td>\n",
              "      <td>1.0</td>\n",
              "      <td>1</td>\n",
              "      <td>Icard, Miss. Amelie</td>\n",
              "      <td>female</td>\n",
              "      <td>38.0</td>\n",
              "      <td>0</td>\n",
              "      <td>0</td>\n",
              "      <td>113572</td>\n",
              "      <td>80.0</td>\n",
              "      <td>B28</td>\n",
              "      <td>NaN</td>\n",
              "    </tr>\n",
              "    <tr>\n",
              "      <th>829</th>\n",
              "      <td>830</td>\n",
              "      <td>1.0</td>\n",
              "      <td>1</td>\n",
              "      <td>Stone, Mrs. George Nelson (Martha Evelyn)</td>\n",
              "      <td>female</td>\n",
              "      <td>62.0</td>\n",
              "      <td>0</td>\n",
              "      <td>0</td>\n",
              "      <td>113572</td>\n",
              "      <td>80.0</td>\n",
              "      <td>B28</td>\n",
              "      <td>NaN</td>\n",
              "    </tr>\n",
              "  </tbody>\n",
              "</table>\n",
              "</div>"
            ],
            "text/plain": [
              "     PassengerId  Survived  Pclass  ...  Fare Cabin  Embarked\n",
              "61            62       1.0       1  ...  80.0   B28       NaN\n",
              "829          830       1.0       1  ...  80.0   B28       NaN\n",
              "\n",
              "[2 rows x 12 columns]"
            ]
          },
          "metadata": {
            "tags": []
          },
          "execution_count": 71
        }
      ]
    },
    {
      "cell_type": "code",
      "metadata": {
        "id": "Aj-zcQJyvf2w"
      },
      "source": [
        "# TODO\r\n",
        "data['Embarked'] = data['Embarked'].fillna('C')"
      ],
      "execution_count": 72,
      "outputs": []
    },
    {
      "cell_type": "markdown",
      "metadata": {
        "id": "fBGKBmVTvh6y"
      },
      "source": [
        "## Feature Engineering (Adding new features)\r\n",
        "\r\n",
        "family_size = Sibsp + Parch"
      ]
    },
    {
      "cell_type": "code",
      "metadata": {
        "id": "ne_kXcHUvi4Z"
      },
      "source": [
        "data['family_size'] = data['SibSp'] + data['Parch']"
      ],
      "execution_count": 73,
      "outputs": []
    },
    {
      "cell_type": "markdown",
      "metadata": {
        "id": "-b_NZiKQvrFx"
      },
      "source": [
        "Encoding string/chars to numerical variables\r\n",
        "\r\n",
        "* One hot encoding \r\n",
        "\r\n",
        "x = male , sex_0 = 1 , sex_1 = 0 x = female , sex_0 = 0 , sex_1 = 1"
      ]
    },
    {
      "cell_type": "markdown",
      "metadata": {
        "id": "-BELjy4Dv0_g"
      },
      "source": [
        "Sex"
      ]
    },
    {
      "cell_type": "code",
      "metadata": {
        "id": "QAyhuQvMvpgv"
      },
      "source": [
        "data['Sex'] = data['Sex'].astype('category')\r\n"
      ],
      "execution_count": 74,
      "outputs": []
    },
    {
      "cell_type": "code",
      "metadata": {
        "id": "i0F1FlYqv5ap"
      },
      "source": [
        "data = pd.get_dummies(data, columns=['Sex'])"
      ],
      "execution_count": 75,
      "outputs": []
    },
    {
      "cell_type": "code",
      "metadata": {
        "id": "w5oKK_4Qv8CC",
        "colab": {
          "base_uri": "https://localhost:8080/",
          "height": 484
        },
        "outputId": "f4566b1c-04d8-4002-f063-dc550fcba46a"
      },
      "source": [
        "data.head()"
      ],
      "execution_count": 77,
      "outputs": [
        {
          "output_type": "execute_result",
          "data": {
            "text/html": [
              "<div>\n",
              "<style scoped>\n",
              "    .dataframe tbody tr th:only-of-type {\n",
              "        vertical-align: middle;\n",
              "    }\n",
              "\n",
              "    .dataframe tbody tr th {\n",
              "        vertical-align: top;\n",
              "    }\n",
              "\n",
              "    .dataframe thead th {\n",
              "        text-align: right;\n",
              "    }\n",
              "</style>\n",
              "<table border=\"1\" class=\"dataframe\">\n",
              "  <thead>\n",
              "    <tr style=\"text-align: right;\">\n",
              "      <th></th>\n",
              "      <th>PassengerId</th>\n",
              "      <th>Survived</th>\n",
              "      <th>Pclass</th>\n",
              "      <th>Name</th>\n",
              "      <th>Age</th>\n",
              "      <th>SibSp</th>\n",
              "      <th>Parch</th>\n",
              "      <th>Ticket</th>\n",
              "      <th>Fare</th>\n",
              "      <th>Cabin</th>\n",
              "      <th>Embarked</th>\n",
              "      <th>family_size</th>\n",
              "      <th>Sex_female</th>\n",
              "      <th>Sex_male</th>\n",
              "    </tr>\n",
              "  </thead>\n",
              "  <tbody>\n",
              "    <tr>\n",
              "      <th>0</th>\n",
              "      <td>1</td>\n",
              "      <td>0.0</td>\n",
              "      <td>3</td>\n",
              "      <td>Braund, Mr. Owen Harris</td>\n",
              "      <td>22.0</td>\n",
              "      <td>1</td>\n",
              "      <td>0</td>\n",
              "      <td>A/5 21171</td>\n",
              "      <td>7.2500</td>\n",
              "      <td>NaN</td>\n",
              "      <td>S</td>\n",
              "      <td>1</td>\n",
              "      <td>0</td>\n",
              "      <td>1</td>\n",
              "    </tr>\n",
              "    <tr>\n",
              "      <th>1</th>\n",
              "      <td>2</td>\n",
              "      <td>1.0</td>\n",
              "      <td>1</td>\n",
              "      <td>Cumings, Mrs. John Bradley (Florence Briggs Th...</td>\n",
              "      <td>38.0</td>\n",
              "      <td>1</td>\n",
              "      <td>0</td>\n",
              "      <td>PC 17599</td>\n",
              "      <td>71.2833</td>\n",
              "      <td>C85</td>\n",
              "      <td>C</td>\n",
              "      <td>1</td>\n",
              "      <td>1</td>\n",
              "      <td>0</td>\n",
              "    </tr>\n",
              "    <tr>\n",
              "      <th>2</th>\n",
              "      <td>3</td>\n",
              "      <td>1.0</td>\n",
              "      <td>3</td>\n",
              "      <td>Heikkinen, Miss. Laina</td>\n",
              "      <td>26.0</td>\n",
              "      <td>0</td>\n",
              "      <td>0</td>\n",
              "      <td>STON/O2. 3101282</td>\n",
              "      <td>7.9250</td>\n",
              "      <td>NaN</td>\n",
              "      <td>S</td>\n",
              "      <td>0</td>\n",
              "      <td>1</td>\n",
              "      <td>0</td>\n",
              "    </tr>\n",
              "    <tr>\n",
              "      <th>3</th>\n",
              "      <td>4</td>\n",
              "      <td>1.0</td>\n",
              "      <td>1</td>\n",
              "      <td>Futrelle, Mrs. Jacques Heath (Lily May Peel)</td>\n",
              "      <td>35.0</td>\n",
              "      <td>1</td>\n",
              "      <td>0</td>\n",
              "      <td>113803</td>\n",
              "      <td>53.1000</td>\n",
              "      <td>C123</td>\n",
              "      <td>S</td>\n",
              "      <td>1</td>\n",
              "      <td>1</td>\n",
              "      <td>0</td>\n",
              "    </tr>\n",
              "    <tr>\n",
              "      <th>4</th>\n",
              "      <td>5</td>\n",
              "      <td>0.0</td>\n",
              "      <td>3</td>\n",
              "      <td>Allen, Mr. William Henry</td>\n",
              "      <td>35.0</td>\n",
              "      <td>0</td>\n",
              "      <td>0</td>\n",
              "      <td>373450</td>\n",
              "      <td>8.0500</td>\n",
              "      <td>NaN</td>\n",
              "      <td>S</td>\n",
              "      <td>0</td>\n",
              "      <td>0</td>\n",
              "      <td>1</td>\n",
              "    </tr>\n",
              "  </tbody>\n",
              "</table>\n",
              "</div>"
            ],
            "text/plain": [
              "   PassengerId  Survived  Pclass  ... family_size  Sex_female  Sex_male\n",
              "0            1       0.0       3  ...           1           0         1\n",
              "1            2       1.0       1  ...           1           1         0\n",
              "2            3       1.0       3  ...           0           1         0\n",
              "3            4       1.0       1  ...           1           1         0\n",
              "4            5       0.0       3  ...           0           0         1\n",
              "\n",
              "[5 rows x 14 columns]"
            ]
          },
          "metadata": {
            "tags": []
          },
          "execution_count": 77
        }
      ]
    },
    {
      "cell_type": "markdown",
      "metadata": {
        "id": "cLYgwuktv-Fr"
      },
      "source": [
        "## Convering pclass to numeric\r\n"
      ]
    },
    {
      "cell_type": "code",
      "metadata": {
        "id": "JDPq4A2ZwDut"
      },
      "source": [
        "data['Pclass'] = data['Pclass'].astype('category') # note case sensitive"
      ],
      "execution_count": 79,
      "outputs": []
    },
    {
      "cell_type": "code",
      "metadata": {
        "id": "mKWWwJMawHGT"
      },
      "source": [
        "data = pd.get_dummies(data, columns=['Pclass'])"
      ],
      "execution_count": 80,
      "outputs": []
    },
    {
      "cell_type": "markdown",
      "metadata": {
        "id": "PxqmmyjcwLSL"
      },
      "source": [
        "Converting Embarked to numeric using one hot encoding"
      ]
    },
    {
      "cell_type": "code",
      "metadata": {
        "id": "Rk3rV1UYwQGo"
      },
      "source": [
        "data['Embarked'] = data['Embarked'].astype('category') # note case sensitive"
      ],
      "execution_count": 81,
      "outputs": []
    },
    {
      "cell_type": "code",
      "metadata": {
        "id": "5tP99QD4wSB6"
      },
      "source": [
        "data = pd.get_dummies(data, columns=['Embarked'])"
      ],
      "execution_count": 82,
      "outputs": []
    },
    {
      "cell_type": "code",
      "metadata": {
        "id": "1Y5SH7R8wTZy",
        "colab": {
          "base_uri": "https://localhost:8080/"
        },
        "outputId": "1b938f64-84e1-4892-d41d-76bf62d3c8dd"
      },
      "source": [
        "data.columns"
      ],
      "execution_count": 83,
      "outputs": [
        {
          "output_type": "execute_result",
          "data": {
            "text/plain": [
              "Index(['PassengerId', 'Survived', 'Name', 'Age', 'SibSp', 'Parch', 'Ticket',\n",
              "       'Fare', 'Cabin', 'family_size', 'Sex_female', 'Sex_male', 'Pclass_1',\n",
              "       'Pclass_2', 'Pclass_3', 'Embarked_C', 'Embarked_Q', 'Embarked_S'],\n",
              "      dtype='object')"
            ]
          },
          "metadata": {
            "tags": []
          },
          "execution_count": 83
        }
      ]
    },
    {
      "cell_type": "markdown",
      "metadata": {
        "id": "cYkbIPsRwW3k"
      },
      "source": [
        "##Drop unnecessary features"
      ]
    },
    {
      "cell_type": "code",
      "metadata": {
        "id": "5kPW1G-mwX7p",
        "colab": {
          "base_uri": "https://localhost:8080/",
          "height": 484
        },
        "outputId": "072b262d-8e3a-4c82-e0dd-d553d28a0216"
      },
      "source": [
        "data.head()"
      ],
      "execution_count": 84,
      "outputs": [
        {
          "output_type": "execute_result",
          "data": {
            "text/html": [
              "<div>\n",
              "<style scoped>\n",
              "    .dataframe tbody tr th:only-of-type {\n",
              "        vertical-align: middle;\n",
              "    }\n",
              "\n",
              "    .dataframe tbody tr th {\n",
              "        vertical-align: top;\n",
              "    }\n",
              "\n",
              "    .dataframe thead th {\n",
              "        text-align: right;\n",
              "    }\n",
              "</style>\n",
              "<table border=\"1\" class=\"dataframe\">\n",
              "  <thead>\n",
              "    <tr style=\"text-align: right;\">\n",
              "      <th></th>\n",
              "      <th>PassengerId</th>\n",
              "      <th>Survived</th>\n",
              "      <th>Name</th>\n",
              "      <th>Age</th>\n",
              "      <th>SibSp</th>\n",
              "      <th>Parch</th>\n",
              "      <th>Ticket</th>\n",
              "      <th>Fare</th>\n",
              "      <th>Cabin</th>\n",
              "      <th>family_size</th>\n",
              "      <th>Sex_female</th>\n",
              "      <th>Sex_male</th>\n",
              "      <th>Pclass_1</th>\n",
              "      <th>Pclass_2</th>\n",
              "      <th>Pclass_3</th>\n",
              "      <th>Embarked_C</th>\n",
              "      <th>Embarked_Q</th>\n",
              "      <th>Embarked_S</th>\n",
              "    </tr>\n",
              "  </thead>\n",
              "  <tbody>\n",
              "    <tr>\n",
              "      <th>0</th>\n",
              "      <td>1</td>\n",
              "      <td>0.0</td>\n",
              "      <td>Braund, Mr. Owen Harris</td>\n",
              "      <td>22.0</td>\n",
              "      <td>1</td>\n",
              "      <td>0</td>\n",
              "      <td>A/5 21171</td>\n",
              "      <td>7.2500</td>\n",
              "      <td>NaN</td>\n",
              "      <td>1</td>\n",
              "      <td>0</td>\n",
              "      <td>1</td>\n",
              "      <td>0</td>\n",
              "      <td>0</td>\n",
              "      <td>1</td>\n",
              "      <td>0</td>\n",
              "      <td>0</td>\n",
              "      <td>1</td>\n",
              "    </tr>\n",
              "    <tr>\n",
              "      <th>1</th>\n",
              "      <td>2</td>\n",
              "      <td>1.0</td>\n",
              "      <td>Cumings, Mrs. John Bradley (Florence Briggs Th...</td>\n",
              "      <td>38.0</td>\n",
              "      <td>1</td>\n",
              "      <td>0</td>\n",
              "      <td>PC 17599</td>\n",
              "      <td>71.2833</td>\n",
              "      <td>C85</td>\n",
              "      <td>1</td>\n",
              "      <td>1</td>\n",
              "      <td>0</td>\n",
              "      <td>1</td>\n",
              "      <td>0</td>\n",
              "      <td>0</td>\n",
              "      <td>1</td>\n",
              "      <td>0</td>\n",
              "      <td>0</td>\n",
              "    </tr>\n",
              "    <tr>\n",
              "      <th>2</th>\n",
              "      <td>3</td>\n",
              "      <td>1.0</td>\n",
              "      <td>Heikkinen, Miss. Laina</td>\n",
              "      <td>26.0</td>\n",
              "      <td>0</td>\n",
              "      <td>0</td>\n",
              "      <td>STON/O2. 3101282</td>\n",
              "      <td>7.9250</td>\n",
              "      <td>NaN</td>\n",
              "      <td>0</td>\n",
              "      <td>1</td>\n",
              "      <td>0</td>\n",
              "      <td>0</td>\n",
              "      <td>0</td>\n",
              "      <td>1</td>\n",
              "      <td>0</td>\n",
              "      <td>0</td>\n",
              "      <td>1</td>\n",
              "    </tr>\n",
              "    <tr>\n",
              "      <th>3</th>\n",
              "      <td>4</td>\n",
              "      <td>1.0</td>\n",
              "      <td>Futrelle, Mrs. Jacques Heath (Lily May Peel)</td>\n",
              "      <td>35.0</td>\n",
              "      <td>1</td>\n",
              "      <td>0</td>\n",
              "      <td>113803</td>\n",
              "      <td>53.1000</td>\n",
              "      <td>C123</td>\n",
              "      <td>1</td>\n",
              "      <td>1</td>\n",
              "      <td>0</td>\n",
              "      <td>1</td>\n",
              "      <td>0</td>\n",
              "      <td>0</td>\n",
              "      <td>0</td>\n",
              "      <td>0</td>\n",
              "      <td>1</td>\n",
              "    </tr>\n",
              "    <tr>\n",
              "      <th>4</th>\n",
              "      <td>5</td>\n",
              "      <td>0.0</td>\n",
              "      <td>Allen, Mr. William Henry</td>\n",
              "      <td>35.0</td>\n",
              "      <td>0</td>\n",
              "      <td>0</td>\n",
              "      <td>373450</td>\n",
              "      <td>8.0500</td>\n",
              "      <td>NaN</td>\n",
              "      <td>0</td>\n",
              "      <td>0</td>\n",
              "      <td>1</td>\n",
              "      <td>0</td>\n",
              "      <td>0</td>\n",
              "      <td>1</td>\n",
              "      <td>0</td>\n",
              "      <td>0</td>\n",
              "      <td>1</td>\n",
              "    </tr>\n",
              "  </tbody>\n",
              "</table>\n",
              "</div>"
            ],
            "text/plain": [
              "   PassengerId  Survived  ... Embarked_Q  Embarked_S\n",
              "0            1       0.0  ...          0           1\n",
              "1            2       1.0  ...          0           0\n",
              "2            3       1.0  ...          0           1\n",
              "3            4       1.0  ...          0           1\n",
              "4            5       0.0  ...          0           1\n",
              "\n",
              "[5 rows x 18 columns]"
            ]
          },
          "metadata": {
            "tags": []
          },
          "execution_count": 84
        }
      ]
    },
    {
      "cell_type": "code",
      "metadata": {
        "id": "uI37V4IKwbwB"
      },
      "source": [
        "data.drop(labels=['Ticket', 'Cabin', 'Name', 'PassengerId'], axis=1 , inplace = True) # axis 1 = column 0 = row , inplace = whethere to overwrite"
      ],
      "execution_count": 85,
      "outputs": []
    },
    {
      "cell_type": "code",
      "metadata": {
        "id": "YFC56F4mwdqN",
        "colab": {
          "base_uri": "https://localhost:8080/",
          "height": 215
        },
        "outputId": "4bf4daf5-d5c3-4819-db73-f643d8929946"
      },
      "source": [
        "data.head()"
      ],
      "execution_count": 86,
      "outputs": [
        {
          "output_type": "execute_result",
          "data": {
            "text/html": [
              "<div>\n",
              "<style scoped>\n",
              "    .dataframe tbody tr th:only-of-type {\n",
              "        vertical-align: middle;\n",
              "    }\n",
              "\n",
              "    .dataframe tbody tr th {\n",
              "        vertical-align: top;\n",
              "    }\n",
              "\n",
              "    .dataframe thead th {\n",
              "        text-align: right;\n",
              "    }\n",
              "</style>\n",
              "<table border=\"1\" class=\"dataframe\">\n",
              "  <thead>\n",
              "    <tr style=\"text-align: right;\">\n",
              "      <th></th>\n",
              "      <th>Survived</th>\n",
              "      <th>Age</th>\n",
              "      <th>SibSp</th>\n",
              "      <th>Parch</th>\n",
              "      <th>Fare</th>\n",
              "      <th>family_size</th>\n",
              "      <th>Sex_female</th>\n",
              "      <th>Sex_male</th>\n",
              "      <th>Pclass_1</th>\n",
              "      <th>Pclass_2</th>\n",
              "      <th>Pclass_3</th>\n",
              "      <th>Embarked_C</th>\n",
              "      <th>Embarked_Q</th>\n",
              "      <th>Embarked_S</th>\n",
              "    </tr>\n",
              "  </thead>\n",
              "  <tbody>\n",
              "    <tr>\n",
              "      <th>0</th>\n",
              "      <td>0.0</td>\n",
              "      <td>22.0</td>\n",
              "      <td>1</td>\n",
              "      <td>0</td>\n",
              "      <td>7.2500</td>\n",
              "      <td>1</td>\n",
              "      <td>0</td>\n",
              "      <td>1</td>\n",
              "      <td>0</td>\n",
              "      <td>0</td>\n",
              "      <td>1</td>\n",
              "      <td>0</td>\n",
              "      <td>0</td>\n",
              "      <td>1</td>\n",
              "    </tr>\n",
              "    <tr>\n",
              "      <th>1</th>\n",
              "      <td>1.0</td>\n",
              "      <td>38.0</td>\n",
              "      <td>1</td>\n",
              "      <td>0</td>\n",
              "      <td>71.2833</td>\n",
              "      <td>1</td>\n",
              "      <td>1</td>\n",
              "      <td>0</td>\n",
              "      <td>1</td>\n",
              "      <td>0</td>\n",
              "      <td>0</td>\n",
              "      <td>1</td>\n",
              "      <td>0</td>\n",
              "      <td>0</td>\n",
              "    </tr>\n",
              "    <tr>\n",
              "      <th>2</th>\n",
              "      <td>1.0</td>\n",
              "      <td>26.0</td>\n",
              "      <td>0</td>\n",
              "      <td>0</td>\n",
              "      <td>7.9250</td>\n",
              "      <td>0</td>\n",
              "      <td>1</td>\n",
              "      <td>0</td>\n",
              "      <td>0</td>\n",
              "      <td>0</td>\n",
              "      <td>1</td>\n",
              "      <td>0</td>\n",
              "      <td>0</td>\n",
              "      <td>1</td>\n",
              "    </tr>\n",
              "    <tr>\n",
              "      <th>3</th>\n",
              "      <td>1.0</td>\n",
              "      <td>35.0</td>\n",
              "      <td>1</td>\n",
              "      <td>0</td>\n",
              "      <td>53.1000</td>\n",
              "      <td>1</td>\n",
              "      <td>1</td>\n",
              "      <td>0</td>\n",
              "      <td>1</td>\n",
              "      <td>0</td>\n",
              "      <td>0</td>\n",
              "      <td>0</td>\n",
              "      <td>0</td>\n",
              "      <td>1</td>\n",
              "    </tr>\n",
              "    <tr>\n",
              "      <th>4</th>\n",
              "      <td>0.0</td>\n",
              "      <td>35.0</td>\n",
              "      <td>0</td>\n",
              "      <td>0</td>\n",
              "      <td>8.0500</td>\n",
              "      <td>0</td>\n",
              "      <td>0</td>\n",
              "      <td>1</td>\n",
              "      <td>0</td>\n",
              "      <td>0</td>\n",
              "      <td>1</td>\n",
              "      <td>0</td>\n",
              "      <td>0</td>\n",
              "      <td>1</td>\n",
              "    </tr>\n",
              "  </tbody>\n",
              "</table>\n",
              "</div>"
            ],
            "text/plain": [
              "   Survived   Age  SibSp  Parch  ...  Pclass_3  Embarked_C  Embarked_Q  Embarked_S\n",
              "0       0.0  22.0      1      0  ...         1           0           0           1\n",
              "1       1.0  38.0      1      0  ...         0           1           0           0\n",
              "2       1.0  26.0      0      0  ...         1           0           0           1\n",
              "3       1.0  35.0      1      0  ...         0           0           0           1\n",
              "4       0.0  35.0      0      0  ...         1           0           0           1\n",
              "\n",
              "[5 rows x 14 columns]"
            ]
          },
          "metadata": {
            "tags": []
          },
          "execution_count": 86
        }
      ]
    },
    {
      "cell_type": "markdown",
      "metadata": {
        "id": "nvjb4MwlwiQ5"
      },
      "source": [
        "##Data Normalization\r\n",
        "\r\n",
        "we will be using min-max normalization\r\n",
        "\r\n",
        "x = (x - min(x)) / ( max (x-min(x) )"
      ]
    },
    {
      "cell_type": "code",
      "metadata": {
        "id": "sYy25a89wg0Z"
      },
      "source": [
        "data['Fare'] = (data['Fare'] - np.min(data['Fare'])) / (np.max(data['Fare'] - np.min(data['Fare'])))"
      ],
      "execution_count": 87,
      "outputs": []
    },
    {
      "cell_type": "code",
      "metadata": {
        "id": "Fp2ebAh7wo9B"
      },
      "source": [
        "data['Age'] = (data['Age'] - np.min(data['Age'])) / (np.max(data['Age'] - np.min(data['Age'])))"
      ],
      "execution_count": 88,
      "outputs": []
    },
    {
      "cell_type": "code",
      "metadata": {
        "id": "2i7PnZhswrBN",
        "colab": {
          "base_uri": "https://localhost:8080/",
          "height": 215
        },
        "outputId": "cd113461-2758-47cf-9841-ee9539cae378"
      },
      "source": [
        "data.head()"
      ],
      "execution_count": 89,
      "outputs": [
        {
          "output_type": "execute_result",
          "data": {
            "text/html": [
              "<div>\n",
              "<style scoped>\n",
              "    .dataframe tbody tr th:only-of-type {\n",
              "        vertical-align: middle;\n",
              "    }\n",
              "\n",
              "    .dataframe tbody tr th {\n",
              "        vertical-align: top;\n",
              "    }\n",
              "\n",
              "    .dataframe thead th {\n",
              "        text-align: right;\n",
              "    }\n",
              "</style>\n",
              "<table border=\"1\" class=\"dataframe\">\n",
              "  <thead>\n",
              "    <tr style=\"text-align: right;\">\n",
              "      <th></th>\n",
              "      <th>Survived</th>\n",
              "      <th>Age</th>\n",
              "      <th>SibSp</th>\n",
              "      <th>Parch</th>\n",
              "      <th>Fare</th>\n",
              "      <th>family_size</th>\n",
              "      <th>Sex_female</th>\n",
              "      <th>Sex_male</th>\n",
              "      <th>Pclass_1</th>\n",
              "      <th>Pclass_2</th>\n",
              "      <th>Pclass_3</th>\n",
              "      <th>Embarked_C</th>\n",
              "      <th>Embarked_Q</th>\n",
              "      <th>Embarked_S</th>\n",
              "    </tr>\n",
              "  </thead>\n",
              "  <tbody>\n",
              "    <tr>\n",
              "      <th>0</th>\n",
              "      <td>0.0</td>\n",
              "      <td>0.273456</td>\n",
              "      <td>1</td>\n",
              "      <td>0</td>\n",
              "      <td>0.014151</td>\n",
              "      <td>1</td>\n",
              "      <td>0</td>\n",
              "      <td>1</td>\n",
              "      <td>0</td>\n",
              "      <td>0</td>\n",
              "      <td>1</td>\n",
              "      <td>0</td>\n",
              "      <td>0</td>\n",
              "      <td>1</td>\n",
              "    </tr>\n",
              "    <tr>\n",
              "      <th>1</th>\n",
              "      <td>1.0</td>\n",
              "      <td>0.473882</td>\n",
              "      <td>1</td>\n",
              "      <td>0</td>\n",
              "      <td>0.139136</td>\n",
              "      <td>1</td>\n",
              "      <td>1</td>\n",
              "      <td>0</td>\n",
              "      <td>1</td>\n",
              "      <td>0</td>\n",
              "      <td>0</td>\n",
              "      <td>1</td>\n",
              "      <td>0</td>\n",
              "      <td>0</td>\n",
              "    </tr>\n",
              "    <tr>\n",
              "      <th>2</th>\n",
              "      <td>1.0</td>\n",
              "      <td>0.323563</td>\n",
              "      <td>0</td>\n",
              "      <td>0</td>\n",
              "      <td>0.015469</td>\n",
              "      <td>0</td>\n",
              "      <td>1</td>\n",
              "      <td>0</td>\n",
              "      <td>0</td>\n",
              "      <td>0</td>\n",
              "      <td>1</td>\n",
              "      <td>0</td>\n",
              "      <td>0</td>\n",
              "      <td>1</td>\n",
              "    </tr>\n",
              "    <tr>\n",
              "      <th>3</th>\n",
              "      <td>1.0</td>\n",
              "      <td>0.436302</td>\n",
              "      <td>1</td>\n",
              "      <td>0</td>\n",
              "      <td>0.103644</td>\n",
              "      <td>1</td>\n",
              "      <td>1</td>\n",
              "      <td>0</td>\n",
              "      <td>1</td>\n",
              "      <td>0</td>\n",
              "      <td>0</td>\n",
              "      <td>0</td>\n",
              "      <td>0</td>\n",
              "      <td>1</td>\n",
              "    </tr>\n",
              "    <tr>\n",
              "      <th>4</th>\n",
              "      <td>0.0</td>\n",
              "      <td>0.436302</td>\n",
              "      <td>0</td>\n",
              "      <td>0</td>\n",
              "      <td>0.015713</td>\n",
              "      <td>0</td>\n",
              "      <td>0</td>\n",
              "      <td>1</td>\n",
              "      <td>0</td>\n",
              "      <td>0</td>\n",
              "      <td>1</td>\n",
              "      <td>0</td>\n",
              "      <td>0</td>\n",
              "      <td>1</td>\n",
              "    </tr>\n",
              "  </tbody>\n",
              "</table>\n",
              "</div>"
            ],
            "text/plain": [
              "   Survived       Age  SibSp  ...  Embarked_C  Embarked_Q  Embarked_S\n",
              "0       0.0  0.273456      1  ...           0           0           1\n",
              "1       1.0  0.473882      1  ...           1           0           0\n",
              "2       1.0  0.323563      0  ...           0           0           1\n",
              "3       1.0  0.436302      1  ...           0           0           1\n",
              "4       0.0  0.436302      0  ...           0           0           1\n",
              "\n",
              "[5 rows x 14 columns]"
            ]
          },
          "metadata": {
            "tags": []
          },
          "execution_count": 89
        }
      ]
    },
    {
      "cell_type": "markdown",
      "metadata": {
        "id": "mH7xCNMAwuLE"
      },
      "source": [
        "##Splitting the dataset into train and test"
      ]
    },
    {
      "cell_type": "code",
      "metadata": {
        "id": "qV6eQa0MwxP4",
        "colab": {
          "base_uri": "https://localhost:8080/"
        },
        "outputId": "b6b90040-5ece-4e7a-c172-ba3d1145dcb3"
      },
      "source": [
        "print('Total data in train_data: {0} , test: {1} , total {2}'.format(len(train_data),len(test_data),len(data)))"
      ],
      "execution_count": 90,
      "outputs": [
        {
          "output_type": "stream",
          "text": [
            "Total data in train_data: 891 , test: 418 , total 1309\n"
          ],
          "name": "stdout"
        }
      ]
    },
    {
      "cell_type": "code",
      "metadata": {
        "id": "r085abvzwzW7",
        "colab": {
          "base_uri": "https://localhost:8080/",
          "height": 422
        },
        "outputId": "f4379d5d-312c-4b29-97da-3ab5c8fe4b5e"
      },
      "source": [
        "data[15:]"
      ],
      "execution_count": 91,
      "outputs": [
        {
          "output_type": "execute_result",
          "data": {
            "text/html": [
              "<div>\n",
              "<style scoped>\n",
              "    .dataframe tbody tr th:only-of-type {\n",
              "        vertical-align: middle;\n",
              "    }\n",
              "\n",
              "    .dataframe tbody tr th {\n",
              "        vertical-align: top;\n",
              "    }\n",
              "\n",
              "    .dataframe thead th {\n",
              "        text-align: right;\n",
              "    }\n",
              "</style>\n",
              "<table border=\"1\" class=\"dataframe\">\n",
              "  <thead>\n",
              "    <tr style=\"text-align: right;\">\n",
              "      <th></th>\n",
              "      <th>Survived</th>\n",
              "      <th>Age</th>\n",
              "      <th>SibSp</th>\n",
              "      <th>Parch</th>\n",
              "      <th>Fare</th>\n",
              "      <th>family_size</th>\n",
              "      <th>Sex_female</th>\n",
              "      <th>Sex_male</th>\n",
              "      <th>Pclass_1</th>\n",
              "      <th>Pclass_2</th>\n",
              "      <th>Pclass_3</th>\n",
              "      <th>Embarked_C</th>\n",
              "      <th>Embarked_Q</th>\n",
              "      <th>Embarked_S</th>\n",
              "    </tr>\n",
              "  </thead>\n",
              "  <tbody>\n",
              "    <tr>\n",
              "      <th>15</th>\n",
              "      <td>1.0</td>\n",
              "      <td>0.686835</td>\n",
              "      <td>0</td>\n",
              "      <td>0</td>\n",
              "      <td>0.031230</td>\n",
              "      <td>0</td>\n",
              "      <td>1</td>\n",
              "      <td>0</td>\n",
              "      <td>0</td>\n",
              "      <td>1</td>\n",
              "      <td>0</td>\n",
              "      <td>0</td>\n",
              "      <td>0</td>\n",
              "      <td>1</td>\n",
              "    </tr>\n",
              "    <tr>\n",
              "      <th>16</th>\n",
              "      <td>0.0</td>\n",
              "      <td>0.022924</td>\n",
              "      <td>4</td>\n",
              "      <td>1</td>\n",
              "      <td>0.056848</td>\n",
              "      <td>5</td>\n",
              "      <td>0</td>\n",
              "      <td>1</td>\n",
              "      <td>0</td>\n",
              "      <td>0</td>\n",
              "      <td>1</td>\n",
              "      <td>0</td>\n",
              "      <td>1</td>\n",
              "      <td>0</td>\n",
              "    </tr>\n",
              "    <tr>\n",
              "      <th>17</th>\n",
              "      <td>1.0</td>\n",
              "      <td>NaN</td>\n",
              "      <td>0</td>\n",
              "      <td>0</td>\n",
              "      <td>0.025374</td>\n",
              "      <td>0</td>\n",
              "      <td>0</td>\n",
              "      <td>1</td>\n",
              "      <td>0</td>\n",
              "      <td>1</td>\n",
              "      <td>0</td>\n",
              "      <td>0</td>\n",
              "      <td>0</td>\n",
              "      <td>1</td>\n",
              "    </tr>\n",
              "    <tr>\n",
              "      <th>18</th>\n",
              "      <td>0.0</td>\n",
              "      <td>0.386196</td>\n",
              "      <td>1</td>\n",
              "      <td>0</td>\n",
              "      <td>0.035134</td>\n",
              "      <td>1</td>\n",
              "      <td>1</td>\n",
              "      <td>0</td>\n",
              "      <td>0</td>\n",
              "      <td>0</td>\n",
              "      <td>1</td>\n",
              "      <td>0</td>\n",
              "      <td>0</td>\n",
              "      <td>1</td>\n",
              "    </tr>\n",
              "    <tr>\n",
              "      <th>19</th>\n",
              "      <td>1.0</td>\n",
              "      <td>NaN</td>\n",
              "      <td>0</td>\n",
              "      <td>0</td>\n",
              "      <td>0.014102</td>\n",
              "      <td>0</td>\n",
              "      <td>1</td>\n",
              "      <td>0</td>\n",
              "      <td>0</td>\n",
              "      <td>0</td>\n",
              "      <td>1</td>\n",
              "      <td>1</td>\n",
              "      <td>0</td>\n",
              "      <td>0</td>\n",
              "    </tr>\n",
              "    <tr>\n",
              "      <th>...</th>\n",
              "      <td>...</td>\n",
              "      <td>...</td>\n",
              "      <td>...</td>\n",
              "      <td>...</td>\n",
              "      <td>...</td>\n",
              "      <td>...</td>\n",
              "      <td>...</td>\n",
              "      <td>...</td>\n",
              "      <td>...</td>\n",
              "      <td>...</td>\n",
              "      <td>...</td>\n",
              "      <td>...</td>\n",
              "      <td>...</td>\n",
              "      <td>...</td>\n",
              "    </tr>\n",
              "    <tr>\n",
              "      <th>1304</th>\n",
              "      <td>NaN</td>\n",
              "      <td>NaN</td>\n",
              "      <td>0</td>\n",
              "      <td>0</td>\n",
              "      <td>0.015713</td>\n",
              "      <td>0</td>\n",
              "      <td>0</td>\n",
              "      <td>1</td>\n",
              "      <td>0</td>\n",
              "      <td>0</td>\n",
              "      <td>1</td>\n",
              "      <td>0</td>\n",
              "      <td>0</td>\n",
              "      <td>1</td>\n",
              "    </tr>\n",
              "    <tr>\n",
              "      <th>1305</th>\n",
              "      <td>NaN</td>\n",
              "      <td>0.486409</td>\n",
              "      <td>0</td>\n",
              "      <td>0</td>\n",
              "      <td>0.212559</td>\n",
              "      <td>0</td>\n",
              "      <td>1</td>\n",
              "      <td>0</td>\n",
              "      <td>1</td>\n",
              "      <td>0</td>\n",
              "      <td>0</td>\n",
              "      <td>1</td>\n",
              "      <td>0</td>\n",
              "      <td>0</td>\n",
              "    </tr>\n",
              "    <tr>\n",
              "      <th>1306</th>\n",
              "      <td>NaN</td>\n",
              "      <td>0.480145</td>\n",
              "      <td>0</td>\n",
              "      <td>0</td>\n",
              "      <td>0.014151</td>\n",
              "      <td>0</td>\n",
              "      <td>0</td>\n",
              "      <td>1</td>\n",
              "      <td>0</td>\n",
              "      <td>0</td>\n",
              "      <td>1</td>\n",
              "      <td>0</td>\n",
              "      <td>0</td>\n",
              "      <td>1</td>\n",
              "    </tr>\n",
              "    <tr>\n",
              "      <th>1307</th>\n",
              "      <td>NaN</td>\n",
              "      <td>NaN</td>\n",
              "      <td>0</td>\n",
              "      <td>0</td>\n",
              "      <td>0.015713</td>\n",
              "      <td>0</td>\n",
              "      <td>0</td>\n",
              "      <td>1</td>\n",
              "      <td>0</td>\n",
              "      <td>0</td>\n",
              "      <td>1</td>\n",
              "      <td>0</td>\n",
              "      <td>0</td>\n",
              "      <td>1</td>\n",
              "    </tr>\n",
              "    <tr>\n",
              "      <th>1308</th>\n",
              "      <td>NaN</td>\n",
              "      <td>NaN</td>\n",
              "      <td>1</td>\n",
              "      <td>1</td>\n",
              "      <td>0.043640</td>\n",
              "      <td>2</td>\n",
              "      <td>0</td>\n",
              "      <td>1</td>\n",
              "      <td>0</td>\n",
              "      <td>0</td>\n",
              "      <td>1</td>\n",
              "      <td>1</td>\n",
              "      <td>0</td>\n",
              "      <td>0</td>\n",
              "    </tr>\n",
              "  </tbody>\n",
              "</table>\n",
              "<p>1294 rows × 14 columns</p>\n",
              "</div>"
            ],
            "text/plain": [
              "      Survived       Age  SibSp  ...  Embarked_C  Embarked_Q  Embarked_S\n",
              "15         1.0  0.686835      0  ...           0           0           1\n",
              "16         0.0  0.022924      4  ...           0           1           0\n",
              "17         1.0       NaN      0  ...           0           0           1\n",
              "18         0.0  0.386196      1  ...           0           0           1\n",
              "19         1.0       NaN      0  ...           1           0           0\n",
              "...        ...       ...    ...  ...         ...         ...         ...\n",
              "1304       NaN       NaN      0  ...           0           0           1\n",
              "1305       NaN  0.486409      0  ...           1           0           0\n",
              "1306       NaN  0.480145      0  ...           0           0           1\n",
              "1307       NaN       NaN      0  ...           0           0           1\n",
              "1308       NaN       NaN      1  ...           1           0           0\n",
              "\n",
              "[1294 rows x 14 columns]"
            ]
          },
          "metadata": {
            "tags": []
          },
          "execution_count": 91
        }
      ]
    },
    {
      "cell_type": "code",
      "metadata": {
        "id": "7pn9BHDcw1tk"
      },
      "source": [
        "train = data[:len(train_data)]"
      ],
      "execution_count": 92,
      "outputs": []
    },
    {
      "cell_type": "code",
      "metadata": {
        "id": "_jxVyUxpw3fQ"
      },
      "source": [
        "test = data[len(train_data):]"
      ],
      "execution_count": 93,
      "outputs": []
    },
    {
      "cell_type": "code",
      "metadata": {
        "id": "XgRCmiNkw5kD",
        "colab": {
          "base_uri": "https://localhost:8080/",
          "height": 215
        },
        "outputId": "12f96f90-7fa7-42d3-c6aa-4901ebd8929d"
      },
      "source": [
        "train.head()"
      ],
      "execution_count": 94,
      "outputs": [
        {
          "output_type": "execute_result",
          "data": {
            "text/html": [
              "<div>\n",
              "<style scoped>\n",
              "    .dataframe tbody tr th:only-of-type {\n",
              "        vertical-align: middle;\n",
              "    }\n",
              "\n",
              "    .dataframe tbody tr th {\n",
              "        vertical-align: top;\n",
              "    }\n",
              "\n",
              "    .dataframe thead th {\n",
              "        text-align: right;\n",
              "    }\n",
              "</style>\n",
              "<table border=\"1\" class=\"dataframe\">\n",
              "  <thead>\n",
              "    <tr style=\"text-align: right;\">\n",
              "      <th></th>\n",
              "      <th>Survived</th>\n",
              "      <th>Age</th>\n",
              "      <th>SibSp</th>\n",
              "      <th>Parch</th>\n",
              "      <th>Fare</th>\n",
              "      <th>family_size</th>\n",
              "      <th>Sex_female</th>\n",
              "      <th>Sex_male</th>\n",
              "      <th>Pclass_1</th>\n",
              "      <th>Pclass_2</th>\n",
              "      <th>Pclass_3</th>\n",
              "      <th>Embarked_C</th>\n",
              "      <th>Embarked_Q</th>\n",
              "      <th>Embarked_S</th>\n",
              "    </tr>\n",
              "  </thead>\n",
              "  <tbody>\n",
              "    <tr>\n",
              "      <th>0</th>\n",
              "      <td>0.0</td>\n",
              "      <td>0.273456</td>\n",
              "      <td>1</td>\n",
              "      <td>0</td>\n",
              "      <td>0.014151</td>\n",
              "      <td>1</td>\n",
              "      <td>0</td>\n",
              "      <td>1</td>\n",
              "      <td>0</td>\n",
              "      <td>0</td>\n",
              "      <td>1</td>\n",
              "      <td>0</td>\n",
              "      <td>0</td>\n",
              "      <td>1</td>\n",
              "    </tr>\n",
              "    <tr>\n",
              "      <th>1</th>\n",
              "      <td>1.0</td>\n",
              "      <td>0.473882</td>\n",
              "      <td>1</td>\n",
              "      <td>0</td>\n",
              "      <td>0.139136</td>\n",
              "      <td>1</td>\n",
              "      <td>1</td>\n",
              "      <td>0</td>\n",
              "      <td>1</td>\n",
              "      <td>0</td>\n",
              "      <td>0</td>\n",
              "      <td>1</td>\n",
              "      <td>0</td>\n",
              "      <td>0</td>\n",
              "    </tr>\n",
              "    <tr>\n",
              "      <th>2</th>\n",
              "      <td>1.0</td>\n",
              "      <td>0.323563</td>\n",
              "      <td>0</td>\n",
              "      <td>0</td>\n",
              "      <td>0.015469</td>\n",
              "      <td>0</td>\n",
              "      <td>1</td>\n",
              "      <td>0</td>\n",
              "      <td>0</td>\n",
              "      <td>0</td>\n",
              "      <td>1</td>\n",
              "      <td>0</td>\n",
              "      <td>0</td>\n",
              "      <td>1</td>\n",
              "    </tr>\n",
              "    <tr>\n",
              "      <th>3</th>\n",
              "      <td>1.0</td>\n",
              "      <td>0.436302</td>\n",
              "      <td>1</td>\n",
              "      <td>0</td>\n",
              "      <td>0.103644</td>\n",
              "      <td>1</td>\n",
              "      <td>1</td>\n",
              "      <td>0</td>\n",
              "      <td>1</td>\n",
              "      <td>0</td>\n",
              "      <td>0</td>\n",
              "      <td>0</td>\n",
              "      <td>0</td>\n",
              "      <td>1</td>\n",
              "    </tr>\n",
              "    <tr>\n",
              "      <th>4</th>\n",
              "      <td>0.0</td>\n",
              "      <td>0.436302</td>\n",
              "      <td>0</td>\n",
              "      <td>0</td>\n",
              "      <td>0.015713</td>\n",
              "      <td>0</td>\n",
              "      <td>0</td>\n",
              "      <td>1</td>\n",
              "      <td>0</td>\n",
              "      <td>0</td>\n",
              "      <td>1</td>\n",
              "      <td>0</td>\n",
              "      <td>0</td>\n",
              "      <td>1</td>\n",
              "    </tr>\n",
              "  </tbody>\n",
              "</table>\n",
              "</div>"
            ],
            "text/plain": [
              "   Survived       Age  SibSp  ...  Embarked_C  Embarked_Q  Embarked_S\n",
              "0       0.0  0.273456      1  ...           0           0           1\n",
              "1       1.0  0.473882      1  ...           1           0           0\n",
              "2       1.0  0.323563      0  ...           0           0           1\n",
              "3       1.0  0.436302      1  ...           0           0           1\n",
              "4       0.0  0.436302      0  ...           0           0           1\n",
              "\n",
              "[5 rows x 14 columns]"
            ]
          },
          "metadata": {
            "tags": []
          },
          "execution_count": 94
        }
      ]
    },
    {
      "cell_type": "code",
      "metadata": {
        "id": "H8yRjXoow64O",
        "colab": {
          "base_uri": "https://localhost:8080/",
          "height": 215
        },
        "outputId": "052bba20-7cb6-4aba-8c44-c010895d1258"
      },
      "source": [
        "test.tail()"
      ],
      "execution_count": 95,
      "outputs": [
        {
          "output_type": "execute_result",
          "data": {
            "text/html": [
              "<div>\n",
              "<style scoped>\n",
              "    .dataframe tbody tr th:only-of-type {\n",
              "        vertical-align: middle;\n",
              "    }\n",
              "\n",
              "    .dataframe tbody tr th {\n",
              "        vertical-align: top;\n",
              "    }\n",
              "\n",
              "    .dataframe thead th {\n",
              "        text-align: right;\n",
              "    }\n",
              "</style>\n",
              "<table border=\"1\" class=\"dataframe\">\n",
              "  <thead>\n",
              "    <tr style=\"text-align: right;\">\n",
              "      <th></th>\n",
              "      <th>Survived</th>\n",
              "      <th>Age</th>\n",
              "      <th>SibSp</th>\n",
              "      <th>Parch</th>\n",
              "      <th>Fare</th>\n",
              "      <th>family_size</th>\n",
              "      <th>Sex_female</th>\n",
              "      <th>Sex_male</th>\n",
              "      <th>Pclass_1</th>\n",
              "      <th>Pclass_2</th>\n",
              "      <th>Pclass_3</th>\n",
              "      <th>Embarked_C</th>\n",
              "      <th>Embarked_Q</th>\n",
              "      <th>Embarked_S</th>\n",
              "    </tr>\n",
              "  </thead>\n",
              "  <tbody>\n",
              "    <tr>\n",
              "      <th>1304</th>\n",
              "      <td>NaN</td>\n",
              "      <td>NaN</td>\n",
              "      <td>0</td>\n",
              "      <td>0</td>\n",
              "      <td>0.015713</td>\n",
              "      <td>0</td>\n",
              "      <td>0</td>\n",
              "      <td>1</td>\n",
              "      <td>0</td>\n",
              "      <td>0</td>\n",
              "      <td>1</td>\n",
              "      <td>0</td>\n",
              "      <td>0</td>\n",
              "      <td>1</td>\n",
              "    </tr>\n",
              "    <tr>\n",
              "      <th>1305</th>\n",
              "      <td>NaN</td>\n",
              "      <td>0.486409</td>\n",
              "      <td>0</td>\n",
              "      <td>0</td>\n",
              "      <td>0.212559</td>\n",
              "      <td>0</td>\n",
              "      <td>1</td>\n",
              "      <td>0</td>\n",
              "      <td>1</td>\n",
              "      <td>0</td>\n",
              "      <td>0</td>\n",
              "      <td>1</td>\n",
              "      <td>0</td>\n",
              "      <td>0</td>\n",
              "    </tr>\n",
              "    <tr>\n",
              "      <th>1306</th>\n",
              "      <td>NaN</td>\n",
              "      <td>0.480145</td>\n",
              "      <td>0</td>\n",
              "      <td>0</td>\n",
              "      <td>0.014151</td>\n",
              "      <td>0</td>\n",
              "      <td>0</td>\n",
              "      <td>1</td>\n",
              "      <td>0</td>\n",
              "      <td>0</td>\n",
              "      <td>1</td>\n",
              "      <td>0</td>\n",
              "      <td>0</td>\n",
              "      <td>1</td>\n",
              "    </tr>\n",
              "    <tr>\n",
              "      <th>1307</th>\n",
              "      <td>NaN</td>\n",
              "      <td>NaN</td>\n",
              "      <td>0</td>\n",
              "      <td>0</td>\n",
              "      <td>0.015713</td>\n",
              "      <td>0</td>\n",
              "      <td>0</td>\n",
              "      <td>1</td>\n",
              "      <td>0</td>\n",
              "      <td>0</td>\n",
              "      <td>1</td>\n",
              "      <td>0</td>\n",
              "      <td>0</td>\n",
              "      <td>1</td>\n",
              "    </tr>\n",
              "    <tr>\n",
              "      <th>1308</th>\n",
              "      <td>NaN</td>\n",
              "      <td>NaN</td>\n",
              "      <td>1</td>\n",
              "      <td>1</td>\n",
              "      <td>0.043640</td>\n",
              "      <td>2</td>\n",
              "      <td>0</td>\n",
              "      <td>1</td>\n",
              "      <td>0</td>\n",
              "      <td>0</td>\n",
              "      <td>1</td>\n",
              "      <td>1</td>\n",
              "      <td>0</td>\n",
              "      <td>0</td>\n",
              "    </tr>\n",
              "  </tbody>\n",
              "</table>\n",
              "</div>"
            ],
            "text/plain": [
              "      Survived       Age  SibSp  ...  Embarked_C  Embarked_Q  Embarked_S\n",
              "1304       NaN       NaN      0  ...           0           0           1\n",
              "1305       NaN  0.486409      0  ...           1           0           0\n",
              "1306       NaN  0.480145      0  ...           0           0           1\n",
              "1307       NaN       NaN      0  ...           0           0           1\n",
              "1308       NaN       NaN      1  ...           1           0           0\n",
              "\n",
              "[5 rows x 14 columns]"
            ]
          },
          "metadata": {
            "tags": []
          },
          "execution_count": 95
        }
      ]
    },
    {
      "cell_type": "code",
      "metadata": {
        "id": "Btz7fQL-xA3u"
      },
      "source": [
        "test = test.drop(labels=['Survived'], axis=1) # Drop 'Survived' column for test, Not Train!"
      ],
      "execution_count": 96,
      "outputs": []
    },
    {
      "cell_type": "code",
      "metadata": {
        "id": "_K8XYcH1xF08",
        "colab": {
          "base_uri": "https://localhost:8080/",
          "height": 215
        },
        "outputId": "a2c9f3fd-4bd8-4f1c-b0a2-694f1afba7e7"
      },
      "source": [
        "test.head()"
      ],
      "execution_count": 97,
      "outputs": [
        {
          "output_type": "execute_result",
          "data": {
            "text/html": [
              "<div>\n",
              "<style scoped>\n",
              "    .dataframe tbody tr th:only-of-type {\n",
              "        vertical-align: middle;\n",
              "    }\n",
              "\n",
              "    .dataframe tbody tr th {\n",
              "        vertical-align: top;\n",
              "    }\n",
              "\n",
              "    .dataframe thead th {\n",
              "        text-align: right;\n",
              "    }\n",
              "</style>\n",
              "<table border=\"1\" class=\"dataframe\">\n",
              "  <thead>\n",
              "    <tr style=\"text-align: right;\">\n",
              "      <th></th>\n",
              "      <th>Age</th>\n",
              "      <th>SibSp</th>\n",
              "      <th>Parch</th>\n",
              "      <th>Fare</th>\n",
              "      <th>family_size</th>\n",
              "      <th>Sex_female</th>\n",
              "      <th>Sex_male</th>\n",
              "      <th>Pclass_1</th>\n",
              "      <th>Pclass_2</th>\n",
              "      <th>Pclass_3</th>\n",
              "      <th>Embarked_C</th>\n",
              "      <th>Embarked_Q</th>\n",
              "      <th>Embarked_S</th>\n",
              "    </tr>\n",
              "  </thead>\n",
              "  <tbody>\n",
              "    <tr>\n",
              "      <th>891</th>\n",
              "      <td>0.430039</td>\n",
              "      <td>0</td>\n",
              "      <td>0</td>\n",
              "      <td>0.015282</td>\n",
              "      <td>0</td>\n",
              "      <td>0</td>\n",
              "      <td>1</td>\n",
              "      <td>0</td>\n",
              "      <td>0</td>\n",
              "      <td>1</td>\n",
              "      <td>0</td>\n",
              "      <td>1</td>\n",
              "      <td>0</td>\n",
              "    </tr>\n",
              "    <tr>\n",
              "      <th>892</th>\n",
              "      <td>0.586622</td>\n",
              "      <td>1</td>\n",
              "      <td>0</td>\n",
              "      <td>0.013663</td>\n",
              "      <td>1</td>\n",
              "      <td>1</td>\n",
              "      <td>0</td>\n",
              "      <td>0</td>\n",
              "      <td>0</td>\n",
              "      <td>1</td>\n",
              "      <td>0</td>\n",
              "      <td>0</td>\n",
              "      <td>1</td>\n",
              "    </tr>\n",
              "    <tr>\n",
              "      <th>893</th>\n",
              "      <td>0.774521</td>\n",
              "      <td>0</td>\n",
              "      <td>0</td>\n",
              "      <td>0.018909</td>\n",
              "      <td>0</td>\n",
              "      <td>0</td>\n",
              "      <td>1</td>\n",
              "      <td>0</td>\n",
              "      <td>1</td>\n",
              "      <td>0</td>\n",
              "      <td>0</td>\n",
              "      <td>1</td>\n",
              "      <td>0</td>\n",
              "    </tr>\n",
              "    <tr>\n",
              "      <th>894</th>\n",
              "      <td>0.336089</td>\n",
              "      <td>0</td>\n",
              "      <td>0</td>\n",
              "      <td>0.016908</td>\n",
              "      <td>0</td>\n",
              "      <td>0</td>\n",
              "      <td>1</td>\n",
              "      <td>0</td>\n",
              "      <td>0</td>\n",
              "      <td>1</td>\n",
              "      <td>0</td>\n",
              "      <td>0</td>\n",
              "      <td>1</td>\n",
              "    </tr>\n",
              "    <tr>\n",
              "      <th>895</th>\n",
              "      <td>0.273456</td>\n",
              "      <td>1</td>\n",
              "      <td>1</td>\n",
              "      <td>0.023984</td>\n",
              "      <td>2</td>\n",
              "      <td>1</td>\n",
              "      <td>0</td>\n",
              "      <td>0</td>\n",
              "      <td>0</td>\n",
              "      <td>1</td>\n",
              "      <td>0</td>\n",
              "      <td>0</td>\n",
              "      <td>1</td>\n",
              "    </tr>\n",
              "  </tbody>\n",
              "</table>\n",
              "</div>"
            ],
            "text/plain": [
              "          Age  SibSp  Parch  ...  Embarked_C  Embarked_Q  Embarked_S\n",
              "891  0.430039      0      0  ...           0           1           0\n",
              "892  0.586622      1      0  ...           0           0           1\n",
              "893  0.774521      0      0  ...           0           1           0\n",
              "894  0.336089      0      0  ...           0           0           1\n",
              "895  0.273456      1      1  ...           0           0           1\n",
              "\n",
              "[5 rows x 13 columns]"
            ]
          },
          "metadata": {
            "tags": []
          },
          "execution_count": 97
        }
      ]
    },
    {
      "cell_type": "code",
      "metadata": {
        "id": "Q5sBA0SpxJtc",
        "colab": {
          "base_uri": "https://localhost:8080/"
        },
        "outputId": "885dab27-9351-4d73-c644-d427254a764b"
      },
      "source": [
        "print(len(train.columns))\r\n",
        "print(len(test.columns))"
      ],
      "execution_count": 98,
      "outputs": [
        {
          "output_type": "stream",
          "text": [
            "14\n",
            "13\n"
          ],
          "name": "stdout"
        }
      ]
    },
    {
      "cell_type": "code",
      "metadata": {
        "id": "5cFTSh06xLuf",
        "colab": {
          "base_uri": "https://localhost:8080/",
          "height": 215
        },
        "outputId": "8f958672-bdda-4eac-e77e-e07c817c7c68"
      },
      "source": [
        "train.head()"
      ],
      "execution_count": 99,
      "outputs": [
        {
          "output_type": "execute_result",
          "data": {
            "text/html": [
              "<div>\n",
              "<style scoped>\n",
              "    .dataframe tbody tr th:only-of-type {\n",
              "        vertical-align: middle;\n",
              "    }\n",
              "\n",
              "    .dataframe tbody tr th {\n",
              "        vertical-align: top;\n",
              "    }\n",
              "\n",
              "    .dataframe thead th {\n",
              "        text-align: right;\n",
              "    }\n",
              "</style>\n",
              "<table border=\"1\" class=\"dataframe\">\n",
              "  <thead>\n",
              "    <tr style=\"text-align: right;\">\n",
              "      <th></th>\n",
              "      <th>Survived</th>\n",
              "      <th>Age</th>\n",
              "      <th>SibSp</th>\n",
              "      <th>Parch</th>\n",
              "      <th>Fare</th>\n",
              "      <th>family_size</th>\n",
              "      <th>Sex_female</th>\n",
              "      <th>Sex_male</th>\n",
              "      <th>Pclass_1</th>\n",
              "      <th>Pclass_2</th>\n",
              "      <th>Pclass_3</th>\n",
              "      <th>Embarked_C</th>\n",
              "      <th>Embarked_Q</th>\n",
              "      <th>Embarked_S</th>\n",
              "    </tr>\n",
              "  </thead>\n",
              "  <tbody>\n",
              "    <tr>\n",
              "      <th>0</th>\n",
              "      <td>0.0</td>\n",
              "      <td>0.273456</td>\n",
              "      <td>1</td>\n",
              "      <td>0</td>\n",
              "      <td>0.014151</td>\n",
              "      <td>1</td>\n",
              "      <td>0</td>\n",
              "      <td>1</td>\n",
              "      <td>0</td>\n",
              "      <td>0</td>\n",
              "      <td>1</td>\n",
              "      <td>0</td>\n",
              "      <td>0</td>\n",
              "      <td>1</td>\n",
              "    </tr>\n",
              "    <tr>\n",
              "      <th>1</th>\n",
              "      <td>1.0</td>\n",
              "      <td>0.473882</td>\n",
              "      <td>1</td>\n",
              "      <td>0</td>\n",
              "      <td>0.139136</td>\n",
              "      <td>1</td>\n",
              "      <td>1</td>\n",
              "      <td>0</td>\n",
              "      <td>1</td>\n",
              "      <td>0</td>\n",
              "      <td>0</td>\n",
              "      <td>1</td>\n",
              "      <td>0</td>\n",
              "      <td>0</td>\n",
              "    </tr>\n",
              "    <tr>\n",
              "      <th>2</th>\n",
              "      <td>1.0</td>\n",
              "      <td>0.323563</td>\n",
              "      <td>0</td>\n",
              "      <td>0</td>\n",
              "      <td>0.015469</td>\n",
              "      <td>0</td>\n",
              "      <td>1</td>\n",
              "      <td>0</td>\n",
              "      <td>0</td>\n",
              "      <td>0</td>\n",
              "      <td>1</td>\n",
              "      <td>0</td>\n",
              "      <td>0</td>\n",
              "      <td>1</td>\n",
              "    </tr>\n",
              "    <tr>\n",
              "      <th>3</th>\n",
              "      <td>1.0</td>\n",
              "      <td>0.436302</td>\n",
              "      <td>1</td>\n",
              "      <td>0</td>\n",
              "      <td>0.103644</td>\n",
              "      <td>1</td>\n",
              "      <td>1</td>\n",
              "      <td>0</td>\n",
              "      <td>1</td>\n",
              "      <td>0</td>\n",
              "      <td>0</td>\n",
              "      <td>0</td>\n",
              "      <td>0</td>\n",
              "      <td>1</td>\n",
              "    </tr>\n",
              "    <tr>\n",
              "      <th>4</th>\n",
              "      <td>0.0</td>\n",
              "      <td>0.436302</td>\n",
              "      <td>0</td>\n",
              "      <td>0</td>\n",
              "      <td>0.015713</td>\n",
              "      <td>0</td>\n",
              "      <td>0</td>\n",
              "      <td>1</td>\n",
              "      <td>0</td>\n",
              "      <td>0</td>\n",
              "      <td>1</td>\n",
              "      <td>0</td>\n",
              "      <td>0</td>\n",
              "      <td>1</td>\n",
              "    </tr>\n",
              "  </tbody>\n",
              "</table>\n",
              "</div>"
            ],
            "text/plain": [
              "   Survived       Age  SibSp  ...  Embarked_C  Embarked_Q  Embarked_S\n",
              "0       0.0  0.273456      1  ...           0           0           1\n",
              "1       1.0  0.473882      1  ...           1           0           0\n",
              "2       1.0  0.323563      0  ...           0           0           1\n",
              "3       1.0  0.436302      1  ...           0           0           1\n",
              "4       0.0  0.436302      0  ...           0           0           1\n",
              "\n",
              "[5 rows x 14 columns]"
            ]
          },
          "metadata": {
            "tags": []
          },
          "execution_count": 99
        }
      ]
    },
    {
      "cell_type": "markdown",
      "metadata": {
        "id": "SJrdyTIpyxf7"
      },
      "source": [
        "## Handling missing value for Age"
      ]
    },
    {
      "cell_type": "code",
      "metadata": {
        "id": "18Dm5BoTyz0h",
        "colab": {
          "base_uri": "https://localhost:8080/"
        },
        "outputId": "335293af-5cd2-4b17-bdc3-d1672b3ce40c"
      },
      "source": [
        "train['Age'] = train['Age'].fillna(train['Age'].mean())"
      ],
      "execution_count": 100,
      "outputs": [
        {
          "output_type": "stream",
          "text": [
            "/usr/local/lib/python3.6/dist-packages/ipykernel_launcher.py:1: SettingWithCopyWarning: \n",
            "A value is trying to be set on a copy of a slice from a DataFrame.\n",
            "Try using .loc[row_indexer,col_indexer] = value instead\n",
            "\n",
            "See the caveats in the documentation: https://pandas.pydata.org/pandas-docs/stable/user_guide/indexing.html#returning-a-view-versus-a-copy\n",
            "  \"\"\"Entry point for launching an IPython kernel.\n"
          ],
          "name": "stderr"
        }
      ]
    },
    {
      "cell_type": "code",
      "metadata": {
        "id": "NkpOIdvIy14W"
      },
      "source": [
        "test['Age'] = test['Age'].fillna(test['Age'].mean())"
      ],
      "execution_count": 101,
      "outputs": []
    },
    {
      "cell_type": "markdown",
      "metadata": {
        "id": "Qp97Q3eBxSY8"
      },
      "source": [
        "## Using sklearn model to train and predict"
      ]
    },
    {
      "cell_type": "code",
      "metadata": {
        "id": "qF4vbfsqxSGB"
      },
      "source": [
        "from sklearn.linear_model import LogisticRegression\r\n",
        "from sklearn.svm import SVC\r\n",
        "from sklearn.model_selection import train_test_split"
      ],
      "execution_count": 102,
      "outputs": []
    },
    {
      "cell_type": "code",
      "metadata": {
        "id": "ZHkyYNF3xWzE"
      },
      "source": [
        "y_train = train['Survived']"
      ],
      "execution_count": 103,
      "outputs": []
    },
    {
      "cell_type": "code",
      "metadata": {
        "id": "cLOzAsAdxYdV"
      },
      "source": [
        "x_train = train.drop(labels=['Survived'],axis=1)"
      ],
      "execution_count": 104,
      "outputs": []
    },
    {
      "cell_type": "code",
      "metadata": {
        "id": "IreVhhgzxf0h"
      },
      "source": [
        "X_train , X_val , Y_train, Y_val = train_test_split(x_train,y_train, test_size= 0.2, random_state= 42) "
      ],
      "execution_count": 105,
      "outputs": []
    },
    {
      "cell_type": "code",
      "metadata": {
        "id": "WMvR1J9gxp2N",
        "colab": {
          "base_uri": "https://localhost:8080/"
        },
        "outputId": "12863054-a43c-494c-9616-674d0195ee5a"
      },
      "source": [
        "print(len(x_train),len(X_train),len(X_val))"
      ],
      "execution_count": 106,
      "outputs": [
        {
          "output_type": "stream",
          "text": [
            "891 712 179\n"
          ],
          "name": "stdout"
        }
      ]
    },
    {
      "cell_type": "code",
      "metadata": {
        "id": "ulLrgjngxr_d",
        "colab": {
          "base_uri": "https://localhost:8080/"
        },
        "outputId": "8f11bc7d-3b38-4775-fb2b-1fbfd06757cc"
      },
      "source": [
        "if (len(X_train)+len(X_val)) == len(x_train):\r\n",
        "  print('Good to go!')"
      ],
      "execution_count": 107,
      "outputs": [
        {
          "output_type": "stream",
          "text": [
            "Good to go!\n"
          ],
          "name": "stdout"
        }
      ]
    },
    {
      "cell_type": "markdown",
      "metadata": {
        "id": "u7IEqXSpxuMA"
      },
      "source": [
        "## Creating model Logistic Regression"
      ]
    },
    {
      "cell_type": "code",
      "metadata": {
        "id": "YgvRUB7cxvLT",
        "colab": {
          "base_uri": "https://localhost:8080/"
        },
        "outputId": "30860332-b062-482a-bccc-dd26d235e2ad"
      },
      "source": [
        "model_logistic_reg = LogisticRegression(random_state=42)\r\n",
        "model_logistic_reg.fit(X_train, Y_train)"
      ],
      "execution_count": 108,
      "outputs": [
        {
          "output_type": "execute_result",
          "data": {
            "text/plain": [
              "LogisticRegression(C=1.0, class_weight=None, dual=False, fit_intercept=True,\n",
              "                   intercept_scaling=1, l1_ratio=None, max_iter=100,\n",
              "                   multi_class='auto', n_jobs=None, penalty='l2',\n",
              "                   random_state=42, solver='lbfgs', tol=0.0001, verbose=0,\n",
              "                   warm_start=False)"
            ]
          },
          "metadata": {
            "tags": []
          },
          "execution_count": 108
        }
      ]
    },
    {
      "cell_type": "code",
      "metadata": {
        "id": "VXByXM0qzDG1",
        "colab": {
          "base_uri": "https://localhost:8080/"
        },
        "outputId": "e2dd485e-8b42-47c5-fda3-37075d7962b4"
      },
      "source": [
        "print(\"Accuracy is {0} %\".format((model_logistic_reg.score(X_val, Y_val))*100))"
      ],
      "execution_count": 109,
      "outputs": [
        {
          "output_type": "stream",
          "text": [
            "Accuracy is 79.3296089385475 %\n"
          ],
          "name": "stdout"
        }
      ]
    },
    {
      "cell_type": "code",
      "metadata": {
        "id": "E_q7THca1X0M"
      },
      "source": [
        "Creating model SVM"
      ],
      "execution_count": null,
      "outputs": []
    },
    {
      "cell_type": "code",
      "metadata": {
        "colab": {
          "base_uri": "https://localhost:8080/"
        },
        "id": "U40Vq--Q1ZxP",
        "outputId": "2fce4e54-f866-4727-cda1-d4453adb2b16"
      },
      "source": [
        "model_svc = SVC()\r\n",
        "model_svc.fit(X_train, Y_train)"
      ],
      "execution_count": 110,
      "outputs": [
        {
          "output_type": "execute_result",
          "data": {
            "text/plain": [
              "SVC(C=1.0, break_ties=False, cache_size=200, class_weight=None, coef0=0.0,\n",
              "    decision_function_shape='ovr', degree=3, gamma='scale', kernel='rbf',\n",
              "    max_iter=-1, probability=False, random_state=None, shrinking=True,\n",
              "    tol=0.001, verbose=False)"
            ]
          },
          "metadata": {
            "tags": []
          },
          "execution_count": 110
        }
      ]
    },
    {
      "cell_type": "code",
      "metadata": {
        "colab": {
          "base_uri": "https://localhost:8080/"
        },
        "id": "oltCSHMl1fUy",
        "outputId": "3813461c-c6eb-434d-e8ff-d6fc8e8dbcb6"
      },
      "source": [
        "print(\"Accuracy is {0} %\".format((model_svc.score(X_val, Y_val))*100))"
      ],
      "execution_count": 111,
      "outputs": [
        {
          "output_type": "stream",
          "text": [
            "Accuracy is 79.88826815642457 %\n"
          ],
          "name": "stdout"
        }
      ]
    },
    {
      "cell_type": "markdown",
      "metadata": {
        "id": "u1eM8RWH1kS_"
      },
      "source": [
        "## Predicting test data"
      ]
    },
    {
      "cell_type": "code",
      "metadata": {
        "colab": {
          "base_uri": "https://localhost:8080/",
          "height": 224
        },
        "id": "lbwbFuOF1lPi",
        "outputId": "47b18dec-1c21-48cd-d2ed-8c2b9ceb616a"
      },
      "source": [
        "test.head()"
      ],
      "execution_count": 112,
      "outputs": [
        {
          "output_type": "execute_result",
          "data": {
            "text/html": [
              "<div>\n",
              "<style scoped>\n",
              "    .dataframe tbody tr th:only-of-type {\n",
              "        vertical-align: middle;\n",
              "    }\n",
              "\n",
              "    .dataframe tbody tr th {\n",
              "        vertical-align: top;\n",
              "    }\n",
              "\n",
              "    .dataframe thead th {\n",
              "        text-align: right;\n",
              "    }\n",
              "</style>\n",
              "<table border=\"1\" class=\"dataframe\">\n",
              "  <thead>\n",
              "    <tr style=\"text-align: right;\">\n",
              "      <th></th>\n",
              "      <th>Age</th>\n",
              "      <th>SibSp</th>\n",
              "      <th>Parch</th>\n",
              "      <th>Fare</th>\n",
              "      <th>family_size</th>\n",
              "      <th>Sex_female</th>\n",
              "      <th>Sex_male</th>\n",
              "      <th>Pclass_1</th>\n",
              "      <th>Pclass_2</th>\n",
              "      <th>Pclass_3</th>\n",
              "      <th>Embarked_C</th>\n",
              "      <th>Embarked_Q</th>\n",
              "      <th>Embarked_S</th>\n",
              "    </tr>\n",
              "  </thead>\n",
              "  <tbody>\n",
              "    <tr>\n",
              "      <th>891</th>\n",
              "      <td>0.430039</td>\n",
              "      <td>0</td>\n",
              "      <td>0</td>\n",
              "      <td>0.015282</td>\n",
              "      <td>0</td>\n",
              "      <td>0</td>\n",
              "      <td>1</td>\n",
              "      <td>0</td>\n",
              "      <td>0</td>\n",
              "      <td>1</td>\n",
              "      <td>0</td>\n",
              "      <td>1</td>\n",
              "      <td>0</td>\n",
              "    </tr>\n",
              "    <tr>\n",
              "      <th>892</th>\n",
              "      <td>0.586622</td>\n",
              "      <td>1</td>\n",
              "      <td>0</td>\n",
              "      <td>0.013663</td>\n",
              "      <td>1</td>\n",
              "      <td>1</td>\n",
              "      <td>0</td>\n",
              "      <td>0</td>\n",
              "      <td>0</td>\n",
              "      <td>1</td>\n",
              "      <td>0</td>\n",
              "      <td>0</td>\n",
              "      <td>1</td>\n",
              "    </tr>\n",
              "    <tr>\n",
              "      <th>893</th>\n",
              "      <td>0.774521</td>\n",
              "      <td>0</td>\n",
              "      <td>0</td>\n",
              "      <td>0.018909</td>\n",
              "      <td>0</td>\n",
              "      <td>0</td>\n",
              "      <td>1</td>\n",
              "      <td>0</td>\n",
              "      <td>1</td>\n",
              "      <td>0</td>\n",
              "      <td>0</td>\n",
              "      <td>1</td>\n",
              "      <td>0</td>\n",
              "    </tr>\n",
              "    <tr>\n",
              "      <th>894</th>\n",
              "      <td>0.336089</td>\n",
              "      <td>0</td>\n",
              "      <td>0</td>\n",
              "      <td>0.016908</td>\n",
              "      <td>0</td>\n",
              "      <td>0</td>\n",
              "      <td>1</td>\n",
              "      <td>0</td>\n",
              "      <td>0</td>\n",
              "      <td>1</td>\n",
              "      <td>0</td>\n",
              "      <td>0</td>\n",
              "      <td>1</td>\n",
              "    </tr>\n",
              "    <tr>\n",
              "      <th>895</th>\n",
              "      <td>0.273456</td>\n",
              "      <td>1</td>\n",
              "      <td>1</td>\n",
              "      <td>0.023984</td>\n",
              "      <td>2</td>\n",
              "      <td>1</td>\n",
              "      <td>0</td>\n",
              "      <td>0</td>\n",
              "      <td>0</td>\n",
              "      <td>1</td>\n",
              "      <td>0</td>\n",
              "      <td>0</td>\n",
              "      <td>1</td>\n",
              "    </tr>\n",
              "  </tbody>\n",
              "</table>\n",
              "</div>"
            ],
            "text/plain": [
              "          Age  SibSp  Parch  ...  Embarked_C  Embarked_Q  Embarked_S\n",
              "891  0.430039      0      0  ...           0           1           0\n",
              "892  0.586622      1      0  ...           0           0           1\n",
              "893  0.774521      0      0  ...           0           1           0\n",
              "894  0.336089      0      0  ...           0           0           1\n",
              "895  0.273456      1      1  ...           0           0           1\n",
              "\n",
              "[5 rows x 13 columns]"
            ]
          },
          "metadata": {
            "tags": []
          },
          "execution_count": 112
        }
      ]
    },
    {
      "cell_type": "code",
      "metadata": {
        "id": "jcjkH6T_1naY"
      },
      "source": [
        "test_result = pd.Series(model_logistic_reg.predict(test),name=\"Survived\").astype(int)"
      ],
      "execution_count": 114,
      "outputs": []
    },
    {
      "cell_type": "code",
      "metadata": {
        "colab": {
          "base_uri": "https://localhost:8080/"
        },
        "id": "kgj0Mwfd2ZLM",
        "outputId": "cd12788c-1555-4b0a-8b23-68f06b0f0ca3"
      },
      "source": [
        "test_result"
      ],
      "execution_count": 115,
      "outputs": [
        {
          "output_type": "execute_result",
          "data": {
            "text/plain": [
              "0      0\n",
              "1      0\n",
              "2      0\n",
              "3      0\n",
              "4      1\n",
              "      ..\n",
              "413    0\n",
              "414    1\n",
              "415    0\n",
              "416    0\n",
              "417    0\n",
              "Name: Survived, Length: 418, dtype: int64"
            ]
          },
          "metadata": {
            "tags": []
          },
          "execution_count": 115
        }
      ]
    },
    {
      "cell_type": "code",
      "metadata": {
        "id": "2SUn5_OT2a2w"
      },
      "source": [
        "result_logistic_reg = pd.concat([test['Age'], test_result], axis= 1)"
      ],
      "execution_count": 118,
      "outputs": []
    },
    {
      "cell_type": "code",
      "metadata": {
        "id": "fDPqpOhn2c2q"
      },
      "source": [
        "test_result_svc = pd.Series(model_svc.predict(test),name=\"Survived\").astype(int)"
      ],
      "execution_count": 119,
      "outputs": []
    },
    {
      "cell_type": "code",
      "metadata": {
        "colab": {
          "base_uri": "https://localhost:8080/"
        },
        "id": "Z6MWEYku3W9v",
        "outputId": "05eb5740-4f3f-483c-c02d-be4f4a71c127"
      },
      "source": [
        "test_result_svc"
      ],
      "execution_count": 120,
      "outputs": [
        {
          "output_type": "execute_result",
          "data": {
            "text/plain": [
              "0      0\n",
              "1      1\n",
              "2      0\n",
              "3      0\n",
              "4      1\n",
              "      ..\n",
              "413    0\n",
              "414    1\n",
              "415    0\n",
              "416    0\n",
              "417    0\n",
              "Name: Survived, Length: 418, dtype: int64"
            ]
          },
          "metadata": {
            "tags": []
          },
          "execution_count": 120
        }
      ]
    },
    {
      "cell_type": "code",
      "metadata": {
        "colab": {
          "base_uri": "https://localhost:8080/"
        },
        "id": "egLWvr-k3Y_H",
        "outputId": "7514877a-d5d7-4524-f5a4-5f7de3bf4775"
      },
      "source": [
        "test_result"
      ],
      "execution_count": 121,
      "outputs": [
        {
          "output_type": "execute_result",
          "data": {
            "text/plain": [
              "0      0\n",
              "1      0\n",
              "2      0\n",
              "3      0\n",
              "4      1\n",
              "      ..\n",
              "413    0\n",
              "414    1\n",
              "415    0\n",
              "416    0\n",
              "417    0\n",
              "Name: Survived, Length: 418, dtype: int64"
            ]
          },
          "metadata": {
            "tags": []
          },
          "execution_count": 121
        }
      ]
    },
    {
      "cell_type": "code",
      "metadata": {
        "colab": {
          "base_uri": "https://localhost:8080/"
        },
        "id": "qivlfPU439sY",
        "outputId": "552a59b8-cd7a-47a9-ec42-4cf6c715de2a"
      },
      "source": [
        "test.iloc[3]"
      ],
      "execution_count": 122,
      "outputs": [
        {
          "output_type": "execute_result",
          "data": {
            "text/plain": [
              "Age            0.336089\n",
              "SibSp          0.000000\n",
              "Parch          0.000000\n",
              "Fare           0.016908\n",
              "family_size    0.000000\n",
              "Sex_female     0.000000\n",
              "Sex_male       1.000000\n",
              "Pclass_1       0.000000\n",
              "Pclass_2       0.000000\n",
              "Pclass_3       1.000000\n",
              "Embarked_C     0.000000\n",
              "Embarked_Q     0.000000\n",
              "Embarked_S     1.000000\n",
              "Name: 894, dtype: float64"
            ]
          },
          "metadata": {
            "tags": []
          },
          "execution_count": 122
        }
      ]
    },
    {
      "cell_type": "code",
      "metadata": {
        "colab": {
          "base_uri": "https://localhost:8080/"
        },
        "id": "6M17KZ4U3oaZ",
        "outputId": "10f1a96e-b6f7-4a02-b2d4-2f3c1d7d0cd7"
      },
      "source": [
        "model_logistic_reg.predict(test.iloc[3:5])"
      ],
      "execution_count": 123,
      "outputs": [
        {
          "output_type": "execute_result",
          "data": {
            "text/plain": [
              "array([0., 1.])"
            ]
          },
          "metadata": {
            "tags": []
          },
          "execution_count": 123
        }
      ]
    }
  ]
}