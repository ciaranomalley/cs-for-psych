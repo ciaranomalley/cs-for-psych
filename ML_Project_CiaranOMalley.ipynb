{
  "nbformat": 4,
  "nbformat_minor": 0,
  "metadata": {
    "colab": {
      "name": "ML_Project_CiaranOMalley.ipynb",
      "provenance": [],
      "collapsed_sections": [],
      "authorship_tag": "ABX9TyMuX3bgCiGy/8BL6Lj4HD4O",
      "include_colab_link": true
    },
    "kernelspec": {
      "name": "python3",
      "display_name": "Python 3"
    }
  },
  "cells": [
    {
      "cell_type": "markdown",
      "metadata": {
        "id": "view-in-github",
        "colab_type": "text"
      },
      "source": [
        "<a href=\"https://colab.research.google.com/github/ciaranomalley/cs-for-psych/blob/master/ML_Project_CiaranOMalley.ipynb\" target=\"_parent\"><img src=\"https://colab.research.google.com/assets/colab-badge.svg\" alt=\"Open In Colab\"/></a>"
      ]
    },
    {
      "cell_type": "markdown",
      "metadata": {
        "id": "O6YizcaeufgZ"
      },
      "source": [
        "# Project rough work\r\n",
        "Machine Learning project Training a neural network to accurately recognise numbers"
      ]
    },
    {
      "cell_type": "code",
      "metadata": {
        "colab": {
          "base_uri": "https://localhost:8080/"
        },
        "id": "U9MYgAPmyg0V",
        "outputId": "39443921-2a94-4274-81e7-24050fd9212b"
      },
      "source": [
        "!pip install tensorflow keras numpy mnist matplotlib"
      ],
      "execution_count": 1,
      "outputs": [
        {
          "output_type": "stream",
          "text": [
            "Requirement already satisfied: tensorflow in /usr/local/lib/python3.6/dist-packages (2.4.0)\n",
            "Requirement already satisfied: keras in /usr/local/lib/python3.6/dist-packages (2.4.3)\n",
            "Requirement already satisfied: numpy in /usr/local/lib/python3.6/dist-packages (1.19.4)\n",
            "Requirement already satisfied: mnist in /usr/local/lib/python3.6/dist-packages (0.2.2)\n",
            "Requirement already satisfied: matplotlib in /usr/local/lib/python3.6/dist-packages (3.2.2)\n",
            "Requirement already satisfied: h5py~=2.10.0 in /usr/local/lib/python3.6/dist-packages (from tensorflow) (2.10.0)\n",
            "Requirement already satisfied: keras-preprocessing~=1.1.2 in /usr/local/lib/python3.6/dist-packages (from tensorflow) (1.1.2)\n",
            "Requirement already satisfied: typing-extensions~=3.7.4 in /usr/local/lib/python3.6/dist-packages (from tensorflow) (3.7.4.3)\n",
            "Requirement already satisfied: wheel~=0.35 in /usr/local/lib/python3.6/dist-packages (from tensorflow) (0.36.2)\n",
            "Requirement already satisfied: opt-einsum~=3.3.0 in /usr/local/lib/python3.6/dist-packages (from tensorflow) (3.3.0)\n",
            "Requirement already satisfied: astunparse~=1.6.3 in /usr/local/lib/python3.6/dist-packages (from tensorflow) (1.6.3)\n",
            "Requirement already satisfied: six~=1.15.0 in /usr/local/lib/python3.6/dist-packages (from tensorflow) (1.15.0)\n",
            "Requirement already satisfied: google-pasta~=0.2 in /usr/local/lib/python3.6/dist-packages (from tensorflow) (0.2.0)\n",
            "Requirement already satisfied: termcolor~=1.1.0 in /usr/local/lib/python3.6/dist-packages (from tensorflow) (1.1.0)\n",
            "Requirement already satisfied: absl-py~=0.10 in /usr/local/lib/python3.6/dist-packages (from tensorflow) (0.10.0)\n",
            "Requirement already satisfied: gast==0.3.3 in /usr/local/lib/python3.6/dist-packages (from tensorflow) (0.3.3)\n",
            "Requirement already satisfied: grpcio~=1.32.0 in /usr/local/lib/python3.6/dist-packages (from tensorflow) (1.32.0)\n",
            "Requirement already satisfied: wrapt~=1.12.1 in /usr/local/lib/python3.6/dist-packages (from tensorflow) (1.12.1)\n",
            "Requirement already satisfied: tensorflow-estimator<2.5.0,>=2.4.0rc0 in /usr/local/lib/python3.6/dist-packages (from tensorflow) (2.4.0)\n",
            "Requirement already satisfied: protobuf>=3.9.2 in /usr/local/lib/python3.6/dist-packages (from tensorflow) (3.12.4)\n",
            "Requirement already satisfied: tensorboard~=2.4 in /usr/local/lib/python3.6/dist-packages (from tensorflow) (2.4.0)\n",
            "Requirement already satisfied: flatbuffers~=1.12.0 in /usr/local/lib/python3.6/dist-packages (from tensorflow) (1.12)\n",
            "Requirement already satisfied: scipy>=0.14 in /usr/local/lib/python3.6/dist-packages (from keras) (1.4.1)\n",
            "Requirement already satisfied: pyyaml in /usr/local/lib/python3.6/dist-packages (from keras) (3.13)\n",
            "Requirement already satisfied: pyparsing!=2.0.4,!=2.1.2,!=2.1.6,>=2.0.1 in /usr/local/lib/python3.6/dist-packages (from matplotlib) (2.4.7)\n",
            "Requirement already satisfied: python-dateutil>=2.1 in /usr/local/lib/python3.6/dist-packages (from matplotlib) (2.8.1)\n",
            "Requirement already satisfied: cycler>=0.10 in /usr/local/lib/python3.6/dist-packages (from matplotlib) (0.10.0)\n",
            "Requirement already satisfied: kiwisolver>=1.0.1 in /usr/local/lib/python3.6/dist-packages (from matplotlib) (1.3.1)\n",
            "Requirement already satisfied: setuptools in /usr/local/lib/python3.6/dist-packages (from protobuf>=3.9.2->tensorflow) (51.0.0)\n",
            "Requirement already satisfied: werkzeug>=0.11.15 in /usr/local/lib/python3.6/dist-packages (from tensorboard~=2.4->tensorflow) (1.0.1)\n",
            "Requirement already satisfied: markdown>=2.6.8 in /usr/local/lib/python3.6/dist-packages (from tensorboard~=2.4->tensorflow) (3.3.3)\n",
            "Requirement already satisfied: tensorboard-plugin-wit>=1.6.0 in /usr/local/lib/python3.6/dist-packages (from tensorboard~=2.4->tensorflow) (1.7.0)\n",
            "Requirement already satisfied: google-auth-oauthlib<0.5,>=0.4.1 in /usr/local/lib/python3.6/dist-packages (from tensorboard~=2.4->tensorflow) (0.4.2)\n",
            "Requirement already satisfied: requests<3,>=2.21.0 in /usr/local/lib/python3.6/dist-packages (from tensorboard~=2.4->tensorflow) (2.23.0)\n",
            "Requirement already satisfied: google-auth<2,>=1.6.3 in /usr/local/lib/python3.6/dist-packages (from tensorboard~=2.4->tensorflow) (1.17.2)\n",
            "Requirement already satisfied: importlib-metadata; python_version < \"3.8\" in /usr/local/lib/python3.6/dist-packages (from markdown>=2.6.8->tensorboard~=2.4->tensorflow) (3.3.0)\n",
            "Requirement already satisfied: requests-oauthlib>=0.7.0 in /usr/local/lib/python3.6/dist-packages (from google-auth-oauthlib<0.5,>=0.4.1->tensorboard~=2.4->tensorflow) (1.3.0)\n",
            "Requirement already satisfied: idna<3,>=2.5 in /usr/local/lib/python3.6/dist-packages (from requests<3,>=2.21.0->tensorboard~=2.4->tensorflow) (2.10)\n",
            "Requirement already satisfied: urllib3!=1.25.0,!=1.25.1,<1.26,>=1.21.1 in /usr/local/lib/python3.6/dist-packages (from requests<3,>=2.21.0->tensorboard~=2.4->tensorflow) (1.24.3)\n",
            "Requirement already satisfied: chardet<4,>=3.0.2 in /usr/local/lib/python3.6/dist-packages (from requests<3,>=2.21.0->tensorboard~=2.4->tensorflow) (3.0.4)\n",
            "Requirement already satisfied: certifi>=2017.4.17 in /usr/local/lib/python3.6/dist-packages (from requests<3,>=2.21.0->tensorboard~=2.4->tensorflow) (2020.12.5)\n",
            "Requirement already satisfied: cachetools<5.0,>=2.0.0 in /usr/local/lib/python3.6/dist-packages (from google-auth<2,>=1.6.3->tensorboard~=2.4->tensorflow) (4.2.0)\n",
            "Requirement already satisfied: rsa<5,>=3.1.4; python_version >= \"3\" in /usr/local/lib/python3.6/dist-packages (from google-auth<2,>=1.6.3->tensorboard~=2.4->tensorflow) (4.6)\n",
            "Requirement already satisfied: pyasn1-modules>=0.2.1 in /usr/local/lib/python3.6/dist-packages (from google-auth<2,>=1.6.3->tensorboard~=2.4->tensorflow) (0.2.8)\n",
            "Requirement already satisfied: zipp>=0.5 in /usr/local/lib/python3.6/dist-packages (from importlib-metadata; python_version < \"3.8\"->markdown>=2.6.8->tensorboard~=2.4->tensorflow) (3.4.0)\n",
            "Requirement already satisfied: oauthlib>=3.0.0 in /usr/local/lib/python3.6/dist-packages (from requests-oauthlib>=0.7.0->google-auth-oauthlib<0.5,>=0.4.1->tensorboard~=2.4->tensorflow) (3.1.0)\n",
            "Requirement already satisfied: pyasn1>=0.1.3 in /usr/local/lib/python3.6/dist-packages (from rsa<5,>=3.1.4; python_version >= \"3\"->google-auth<2,>=1.6.3->tensorboard~=2.4->tensorflow) (0.4.8)\n"
          ],
          "name": "stdout"
        }
      ]
    },
    {
      "cell_type": "markdown",
      "metadata": {
        "id": "2i2PvRHiR5l3"
      },
      "source": [
        "#Importing\r\n"
      ]
    },
    {
      "cell_type": "code",
      "metadata": {
        "id": "16zqBOoxyjla"
      },
      "source": [
        "import numpy as np\r\n",
        "import mnist #dataset\r\n",
        "import matplotlib.pyplot as plt\r\n",
        "\r\n",
        "%matplotlib inline\r\n",
        "\r\n",
        "\r\n",
        "from keras.models import Sequential #ANN Architecture\r\n",
        "from keras.layers import Dense, Flatten, Activation #The layers in the ANN\r\n",
        "from keras.utils import to_categorical\r\n",
        "from keras.losses import BinaryCrossentropy"
      ],
      "execution_count": 2,
      "outputs": []
    },
    {
      "cell_type": "markdown",
      "metadata": {
        "id": "4bnWya24R9TD"
      },
      "source": [
        "#Load data set"
      ]
    },
    {
      "cell_type": "code",
      "metadata": {
        "id": "5PoXmX88wXcH"
      },
      "source": [
        "train_images = mnist.train_images() #training data images\r\n",
        "train_labels = mnist.train_labels() # training data labels\r\n",
        "test_images = mnist.test_images() #trainign data imaegs\r\n",
        "test_labels = mnist.test_labels() #training data labels"
      ],
      "execution_count": 3,
      "outputs": []
    },
    {
      "cell_type": "markdown",
      "metadata": {
        "id": "8AhJnlx6SAM7"
      },
      "source": [
        "# Normalize the images"
      ]
    },
    {
      "cell_type": "code",
      "metadata": {
        "colab": {
          "base_uri": "https://localhost:8080/"
        },
        "id": "p43c1vzP4rwB",
        "outputId": "11368205-6962-4d05-e2d8-4ecf8c0b06eb"
      },
      "source": [
        "# Normalize the images, normalize pixel values from 0:255 to go from -0.5:0.5\r\n",
        "train_images = (train_images/255) \r\n",
        "test_images = (test_images/255) \r\n",
        "\r\n",
        "#Flatten images from a 28x28 to a 784x1(28^2) dimensional images \r\n",
        "train_images = train_images.reshape ((-1,784))\r\n",
        "test_images = test_images.reshape ((-1,784))\r\n",
        "#Print the shape \r\n",
        "print(train_images.shape) #60,000 rows / 784 col\r\n",
        "print(test_images.shape) #10,000 rows/ 784 col"
      ],
      "execution_count": 4,
      "outputs": [
        {
          "output_type": "stream",
          "text": [
            "(60000, 784)\n",
            "(10000, 784)\n"
          ],
          "name": "stdout"
        }
      ]
    },
    {
      "cell_type": "markdown",
      "metadata": {
        "id": "iJa3Ke-WSDIF"
      },
      "source": [
        "#Building the model"
      ]
    },
    {
      "cell_type": "code",
      "metadata": {
        "id": "2CsgtkAh6Wc9"
      },
      "source": [
        "#3 layers, 2 layers with 64 neurons and the relu function\r\n",
        "#1 layer with 10 neurons and softmax function -- as digits 0-9 (10 possible values) softmax function \r\n",
        "model = Sequential()\r\n",
        "model.add( Dense(64, activation ='relu' , input_dim=784))\r\n",
        "model.add( Dense(64, activation='relu'))\r\n",
        "model.add( Dense(10, activation='softmax'))"
      ],
      "execution_count": 5,
      "outputs": []
    },
    {
      "cell_type": "markdown",
      "metadata": {
        "id": "s0F4fWfASMXi"
      },
      "source": [
        "#Compiling model"
      ]
    },
    {
      "cell_type": "code",
      "metadata": {
        "id": "_DDyeFbe7lB4"
      },
      "source": [
        "#Loss function measures accuracy and tries to improve it using optimizer \r\n",
        "model.compile(\r\n",
        "    optimizer='adam', #why adam?\r\n",
        "      loss = 'categorical_crossentropy', # (classes that are > 2)\r\n",
        "      metrics = ['accuracy']\r\n",
        ")"
      ],
      "execution_count": 6,
      "outputs": []
    },
    {
      "cell_type": "markdown",
      "metadata": {
        "id": "rK6_80FFSIzO"
      },
      "source": [
        "#Training the model "
      ]
    },
    {
      "cell_type": "code",
      "metadata": {
        "colab": {
          "base_uri": "https://localhost:8080/"
        },
        "id": "x0WdtiI38NkG",
        "outputId": "8d646b0f-5419-4e37-9238-894eea0b3836"
      },
      "source": [
        "model.fit(\r\n",
        "    train_images,\r\n",
        "      to_categorical(train_labels), # Ex. 2 it expect [0,0,1,0,0,0,0,0,0,0,] A 10 dimensional vector\r\n",
        "      epochs = 10, #No of iteratrions over the dataset\r\n",
        "      batch_size=128, #no of samples per gradient update\r\n",
        "\r\n",
        ")\r\n",
        "   "
      ],
      "execution_count": 7,
      "outputs": [
        {
          "output_type": "stream",
          "text": [
            "Epoch 1/10\n",
            "469/469 [==============================] - 2s 3ms/step - loss: 0.7574 - accuracy: 0.7800\n",
            "Epoch 2/10\n",
            "469/469 [==============================] - 1s 3ms/step - loss: 0.1846 - accuracy: 0.9443\n",
            "Epoch 3/10\n",
            "469/469 [==============================] - 1s 3ms/step - loss: 0.1294 - accuracy: 0.9623\n",
            "Epoch 4/10\n",
            "469/469 [==============================] - 2s 3ms/step - loss: 0.1012 - accuracy: 0.9704\n",
            "Epoch 5/10\n",
            "469/469 [==============================] - 2s 3ms/step - loss: 0.0870 - accuracy: 0.9735\n",
            "Epoch 6/10\n",
            "469/469 [==============================] - 2s 3ms/step - loss: 0.0732 - accuracy: 0.9775\n",
            "Epoch 7/10\n",
            "469/469 [==============================] - 1s 3ms/step - loss: 0.0610 - accuracy: 0.9813\n",
            "Epoch 8/10\n",
            "469/469 [==============================] - 2s 3ms/step - loss: 0.0488 - accuracy: 0.9851\n",
            "Epoch 9/10\n",
            "469/469 [==============================] - 2s 4ms/step - loss: 0.0435 - accuracy: 0.9858\n",
            "Epoch 10/10\n",
            "469/469 [==============================] - 2s 3ms/step - loss: 0.0391 - accuracy: 0.9875\n"
          ],
          "name": "stdout"
        },
        {
          "output_type": "execute_result",
          "data": {
            "text/plain": [
              "<tensorflow.python.keras.callbacks.History at 0x7f23ac4db278>"
            ]
          },
          "metadata": {
            "tags": []
          },
          "execution_count": 7
        }
      ]
    },
    {
      "cell_type": "markdown",
      "metadata": {
        "id": "gape6vw928bg"
      },
      "source": [
        "469 x 128  60,032 train images. "
      ]
    },
    {
      "cell_type": "markdown",
      "metadata": {
        "id": "-axhq-w0teWG"
      },
      "source": [
        "##For epochs plot\r\n"
      ]
    },
    {
      "cell_type": "code",
      "metadata": {
        "id": "mwH0jy-W4e74"
      },
      "source": [
        "!pip install livelossplot --quiet"
      ],
      "execution_count": 8,
      "outputs": []
    },
    {
      "cell_type": "code",
      "metadata": {
        "id": "j8NowU5t4e75"
      },
      "source": [
        "from livelossplot import PlotLossesKeras\r\n",
        "from keras.datasets import mnist\r\n",
        "\r\n",
        "%matplotlib inline"
      ],
      "execution_count": 9,
      "outputs": []
    },
    {
      "cell_type": "code",
      "metadata": {
        "id": "JPMRKp5p4Zys"
      },
      "source": [
        "# data loading\r\n",
        "(X_train, y_train), (X_test, y_test) = mnist.load_data()"
      ],
      "execution_count": 10,
      "outputs": []
    },
    {
      "cell_type": "code",
      "metadata": {
        "id": "lEAiG5LB4Zyy"
      },
      "source": [
        "# data preprocessing\r\n",
        "Y_train = to_categorical(y_train)\r\n",
        "Y_test = to_categorical(y_test)\r\n",
        "X_train = X_train.reshape(-1, 28, 28, 1).astype('float32') / 255.\r\n",
        "X_test = X_test.reshape(-1, 28, 28, 1).astype('float32') / 255.\r\n"
      ],
      "execution_count": 11,
      "outputs": []
    },
    {
      "cell_type": "code",
      "metadata": {
        "id": "4XX27Ou84Zyz"
      },
      "source": [
        "model = Sequential()\r\n",
        "\r\n",
        "model.add(Flatten(input_shape=(28, 28, 1)))\r\n",
        "model.add(Dense(10))\r\n",
        "model.add(Activation('softmax'))\r\n",
        "\r\n",
        "model.compile(optimizer='adam',\r\n",
        "              loss='categorical_crossentropy',  # 'mean_squared_error'\r\n",
        "              metrics=['accuracy', 'mean_squared_error'])"
      ],
      "execution_count": 12,
      "outputs": []
    },
    {
      "cell_type": "code",
      "metadata": {
        "id": "hc8cGvUm4Zyz"
      },
      "source": [
        "plotlosses = PlotLossesKeras()"
      ],
      "execution_count": 13,
      "outputs": []
    },
    {
      "cell_type": "code",
      "metadata": {
        "colab": {
          "base_uri": "https://localhost:8080/",
          "height": 1000
        },
        "id": "hkBoUDfJ4Zyz",
        "outputId": "ed05b75d-7382-4de5-94e4-330816ae7ebe"
      },
      "source": [
        "model.fit(X_train, Y_train,\r\n",
        "          epochs=10,\r\n",
        "          validation_data=(X_test, Y_test),\r\n",
        "          callbacks=[plotlosses],\r\n",
        "          verbose=False)"
      ],
      "execution_count": 14,
      "outputs": [
        {
          "output_type": "display_data",
          "data": {
            "image/png": "[encoded data removed]",
            "text/plain": [
              "<Figure size 864x864 with 4 Axes>"
            ]
          },
          "metadata": {
            "tags": [],
            "needs_background": "light"
          }
        },
        {
          "output_type": "stream",
          "text": [
            "accuracy\n",
            "\ttraining         \t (min:    0.880, max:    0.931, cur:    0.931)\n",
            "\tvalidation       \t (min:    0.916, max:    0.927, cur:    0.926)\n",
            "Loss\n",
            "\ttraining         \t (min:    0.251, max:    0.464, cur:    0.251)\n",
            "\tvalidation       \t (min:    0.262, max:    0.304, cur:    0.264)\n",
            "mean_squared_error\n",
            "\ttraining         \t (min:    0.011, max:    0.020, cur:    0.011)\n",
            "\tvalidation       \t (min:    0.011, max:    0.013, cur:    0.011)\n"
          ],
          "name": "stdout"
        },
        {
          "output_type": "execute_result",
          "data": {
            "text/plain": [
              "<tensorflow.python.keras.callbacks.History at 0x7f23a9e1eb38>"
            ]
          },
          "metadata": {
            "tags": []
          },
          "execution_count": 14
        }
      ]
    },
    {
      "cell_type": "markdown",
      "metadata": {
        "id": "Ry4fZzuhSSBS"
      },
      "source": [
        "#Evaluating the model"
      ]
    },
    {
      "cell_type": "code",
      "metadata": {
        "colab": {
          "base_uri": "https://localhost:8080/"
        },
        "id": "RbhRiVLCBsTJ",
        "outputId": "42cf780c-009c-4e36-da91-dc29788efcd5"
      },
      "source": [
        "model.fit(\r\n",
        "    test_images,\r\n",
        "      to_categorical(test_labels)\r\n",
        ")"
      ],
      "execution_count": 15,
      "outputs": [
        {
          "output_type": "stream",
          "text": [
            "WARNING:tensorflow:Model was constructed with shape (None, 28, 28, 1) for input KerasTensor(type_spec=TensorSpec(shape=(None, 28, 28, 1), dtype=tf.float32, name='flatten_input'), name='flatten_input', description=\"created by layer 'flatten_input'\"), but it was called on an input with incompatible shape (None, 784).\n",
            "313/313 [==============================] - 1s 2ms/step - loss: 0.2618 - accuracy: 0.9285 - mean_squared_error: 0.0111\n"
          ],
          "name": "stdout"
        },
        {
          "output_type": "execute_result",
          "data": {
            "text/plain": [
              "<tensorflow.python.keras.callbacks.History at 0x7f23a2c44198>"
            ]
          },
          "metadata": {
            "tags": []
          },
          "execution_count": 15
        }
      ]
    },
    {
      "cell_type": "code",
      "metadata": {
        "colab": {
          "base_uri": "https://localhost:8080/"
        },
        "id": "Kqj56Zdfzj7Y",
        "outputId": "d0b71015-54e2-4fc7-f314-bbcbe862a471"
      },
      "source": [
        "model.evaluate(\r\n",
        "  test_images,\r\n",
        "  to_categorical(test_labels)\r\n",
        ")"
      ],
      "execution_count": 16,
      "outputs": [
        {
          "output_type": "stream",
          "text": [
            "WARNING:tensorflow:Model was constructed with shape (None, 28, 28, 1) for input KerasTensor(type_spec=TensorSpec(shape=(None, 28, 28, 1), dtype=tf.float32, name='flatten_input'), name='flatten_input', description=\"created by layer 'flatten_input'\"), but it was called on an input with incompatible shape (None, 784).\n",
            "313/313 [==============================] - 1s 2ms/step - loss: 0.2421 - accuracy: 0.9321 - mean_squared_error: 0.0103\n"
          ],
          "name": "stdout"
        },
        {
          "output_type": "execute_result",
          "data": {
            "text/plain": [
              "[0.24209658801555634, 0.9320999979972839, 0.010348120704293251]"
            ]
          },
          "metadata": {
            "tags": []
          },
          "execution_count": 16
        }
      ]
    },
    {
      "cell_type": "markdown",
      "metadata": {
        "id": "okqP5Xh43G8t"
      },
      "source": [
        "312 batches of 32 test images. 312x32 = 10016."
      ]
    },
    {
      "cell_type": "code",
      "metadata": {
        "id": "dmG8F8fY7cRD"
      },
      "source": [
        ""
      ],
      "execution_count": 16,
      "outputs": []
    },
    {
      "cell_type": "markdown",
      "metadata": {
        "id": "2x1qfLeMSZQI"
      },
      "source": [
        "#Saving model"
      ]
    },
    {
      "cell_type": "code",
      "metadata": {
        "id": "EqqKxdaDEsSh"
      },
      "source": [
        "model.save_weights('model.h5')"
      ],
      "execution_count": 17,
      "outputs": []
    },
    {
      "cell_type": "code",
      "metadata": {
        "colab": {
          "base_uri": "https://localhost:8080/"
        },
        "id": "V-_2vfVREWDQ",
        "outputId": "230f28e6-7255-4956-bf95-eb73b18b155d"
      },
      "source": [
        "#predict on the first 5 test images\r\n",
        "\r\n",
        "predictions = model.predict(test_images[:10]) #create variable of first 5 predictions\r\n",
        "#print models prediction\r\n",
        "print ('probability distributions for first 5 images') \r\n",
        "#print(predictions)\r\n",
        "#convert predicions to \r\n",
        "print(np.argmax(predictions[0])) # use arg function to print out the labels \r\n",
        "print(np.argmax(predictions[2])) #3rd number in sequence\r\n",
        "print(np.argmax(predictions[7])) #8th number in sequence\r\n",
        "print(np.argmax(predictions[9])) #10th number in sequence\r\n",
        "print(test_labels[:10])\r\n"
      ],
      "execution_count": 36,
      "outputs": [
        {
          "output_type": "stream",
          "text": [
            "probability distributions for first 5 images\n",
            "7\n",
            "1\n",
            "9\n",
            "9\n",
            "[7 2 1 0 4 1 4 9 5 9]\n"
          ],
          "name": "stdout"
        }
      ]
    },
    {
      "cell_type": "code",
      "metadata": {
        "colab": {
          "base_uri": "https://localhost:8080/",
          "height": 1000
        },
        "id": "b4IL4iroI0N_",
        "outputId": "ba81b092-26ec-48b7-a102-f5ddd0a74997"
      },
      "source": [
        "for i in range(0,5):\r\n",
        "  first_image = test_images[i]\r\n",
        "  first_image = np.array(first_image, dtype='float')\r\n",
        "  pixels = first_image.reshape((28,28))\r\n",
        "  plt.imshow(pixels, cmap='gray')\r\n",
        "  plt.show()"
      ],
      "execution_count": 37,
      "outputs": [
        {
          "output_type": "display_data",
          "data": {
            "image/png": "[encoded data removed]",
            "text/plain": [
              "<Figure size 432x288 with 1 Axes>"
            ]
          },
          "metadata": {
            "tags": [],
            "needs_background": "light"
          }
        },
        {
          "output_type": "display_data",
          "data": {
            "image/png": "[encoded data removed]",
            "text/plain": [
              "<Figure size 432x288 with 1 Axes>"
            ]
          },
          "metadata": {
            "tags": [],
            "needs_background": "light"
          }
        },
        {
          "output_type": "display_data",
          "data": {
            "image/png": "[encoded data removed]",
            "text/plain": [
              "<Figure size 432x288 with 1 Axes>"
            ]
          },
          "metadata": {
            "tags": [],
            "needs_background": "light"
          }
        },
        {
          "output_type": "display_data",
          "data": {
            "image/png": "[encoded data removed]",
            "text/plain": [
              "<Figure size 432x288 with 1 Axes>"
            ]
          },
          "metadata": {
            "tags": [],
            "needs_background": "light"
          }
        },
        {
          "output_type": "display_data",
          "data": {
            "image/png": "[encoded data removed]",
            "text/plain": [
              "<Figure size 432x288 with 1 Axes>"
            ]
          },
          "metadata": {
            "tags": [],
            "needs_background": "light"
          }
        }
      ]
    },
    {
      "cell_type": "code",
      "metadata": {
        "id": "PJPdvSG-3ffh"
      },
      "source": [
        "from IPython.display import display, Javascript\r\n",
        "from google.colab.output import eval_js\r\n",
        "from base64 import b64decode\r\n",
        "\r\n",
        "def take_photo(filename='photo.jpg', quality=0.8):\r\n",
        "  js = Javascript('''\r\n",
        "    async function takePhoto(quality) {\r\n",
        "      const div = document.createElement('div');\r\n",
        "      const capture = document.createElement('button');\r\n",
        "      capture.textContent = 'Capture';\r\n",
        "      div.appendChild(capture);\r\n",
        "\r\n",
        "      const video = document.createElement('video');\r\n",
        "      video.style.display = 'block';\r\n",
        "      const stream = await navigator.mediaDevices.getUserMedia({video: true});\r\n",
        "\r\n",
        "      document.body.appendChild(div);\r\n",
        "      div.appendChild(video);\r\n",
        "      video.srcObject = stream;\r\n",
        "      await video.play();\r\n",
        "\r\n",
        "      // Resize the output to fit the video element.\r\n",
        "      google.colab.output.setIframeHeight(document.documentElement.scrollHeight, true);\r\n",
        "\r\n",
        "      // Wait for Capture to be clicked.\r\n",
        "      await new Promise((resolve) => capture.onclick = resolve);\r\n",
        "\r\n",
        "      const canvas = document.createElement('canvas');\r\n",
        "      canvas.width = video.videoWidth;\r\n",
        "      canvas.height = video.videoHeight;\r\n",
        "      canvas.getContext('2d').drawImage(video, 0, 0);\r\n",
        "      stream.getVideoTracks()[0].stop();\r\n",
        "      div.remove();\r\n",
        "      return canvas.toDataURL('image/jpeg', quality);\r\n",
        "    }\r\n",
        "    ''')\r\n",
        "  display(js)\r\n",
        "  data = eval_js('takePhoto({})'.format(quality))\r\n",
        "  binary = b64decode(data.split(',')[1])\r\n",
        "  with open(filename, 'wb') as f:\r\n",
        "    f.write(binary)\r\n",
        "  return filename"
      ],
      "execution_count": 38,
      "outputs": []
    },
    {
      "cell_type": "code",
      "metadata": {
        "colab": {
          "base_uri": "https://localhost:8080/",
          "height": 514
        },
        "id": "mTqmoGNi__0U",
        "outputId": "fc42b678-694d-48ed-dd33-aea0f79d8d1f"
      },
      "source": [
        "from IPython.display import Image\r\n",
        "try:\r\n",
        "  filename = take_photo()\r\n",
        "  print('Saved to {}'.format(filename))\r\n",
        "  \r\n",
        "  # Show the image which was just taken.\r\n",
        "  display(Image(filename))\r\n",
        "except Exception as err:\r\n",
        "  # Errors will be thrown if the user does not have a webcam or if they do not\r\n",
        "  # grant the page permission to access it.\r\n",
        "  print(str(err))"
      ],
      "execution_count": 73,
      "outputs": [
        {
          "output_type": "display_data",
          "data": {
            "application/javascript": [
              "\n",
              "    async function takePhoto(quality) {\n",
              "      const div = document.createElement('div');\n",
              "      const capture = document.createElement('button');\n",
              "      capture.textContent = 'Capture';\n",
              "      div.appendChild(capture);\n",
              "\n",
              "      const video = document.createElement('video');\n",
              "      video.style.display = 'block';\n",
              "      const stream = await navigator.mediaDevices.getUserMedia({video: true});\n",
              "\n",
              "      document.body.appendChild(div);\n",
              "      div.appendChild(video);\n",
              "      video.srcObject = stream;\n",
              "      await video.play();\n",
              "\n",
              "      // Resize the output to fit the video element.\n",
              "      google.colab.output.setIframeHeight(document.documentElement.scrollHeight, true);\n",
              "\n",
              "      // Wait for Capture to be clicked.\n",
              "      await new Promise((resolve) => capture.onclick = resolve);\n",
              "\n",
              "      const canvas = document.createElement('canvas');\n",
              "      canvas.width = video.videoWidth;\n",
              "      canvas.height = video.videoHeight;\n",
              "      canvas.getContext('2d').drawImage(video, 0, 0);\n",
              "      stream.getVideoTracks()[0].stop();\n",
              "      div.remove();\n",
              "      return canvas.toDataURL('image/jpeg', quality);\n",
              "    }\n",
              "    "
            ],
            "text/plain": [
              "<IPython.core.display.Javascript object>"
            ]
          },
          "metadata": {
            "tags": []
          }
        },
        {
          "output_type": "stream",
          "text": [
            "Saved to photo.jpg\n"
          ],
          "name": "stdout"
        },
        {
          "output_type": "display_data",
          "data": {
            "image/jpeg": "[encoded data removed]",
            "text/plain": [
              "<IPython.core.display.Image object>"
            ]
          },
          "metadata": {
            "tags": []
          }
        }
      ]
    },
    {
      "cell_type": "code",
      "metadata": {
        "id": "slI_o5ZWAjOl",
        "colab": {
          "base_uri": "https://localhost:8080/",
          "height": 721
        },
        "outputId": "f79d6ee2-2231-401c-e259-18fa91318b2d"
      },
      "source": [
        "import tensorflow as tf\r\n",
        "import cv2\r\n",
        "from PIL import Image\r\n",
        "user_test = filename\r\n",
        "col = Image.open(user_test)\r\n",
        "gray = col.convert('L')\r\n",
        "bw = gray.point(lambda x: 0 if x<100 else 255, '1')\r\n",
        "bw.save(\"bw_image.jpg\")\r\n",
        "bw\r\n",
        "img_array = cv2.imread(\"bw_image.jpg\", cv2.IMREAD_GRAYSCALE)\r\n",
        "img_array = cv2.bitwise_not(img_array)\r\n",
        "print(img_array.size)\r\n",
        "plt.imshow(img_array, cmap = plt.cm.binary)\r\n",
        "plt.show()\r\n",
        "img_size = 28\r\n",
        "new_array = cv2.resize(img_array, (img_size,img_size))\r\n",
        "plt.imshow(new_array, cmap = plt.cm.binary)\r\n",
        "plt.show()\r\n",
        "user_test = tf.keras.utils.normalize(new_array, axis = 1)\r\n",
        "user_test = user_test.reshape ((-1,784))\r\n",
        "predicted = model.predict([[user_test]])\r\n",
        "a = predicted[0][0]\r\n",
        "for i in range(0,10):\r\n",
        "  b = predicted[0][i]\r\n",
        "  print(\"Probability Distribution for\",i,b)\r\n",
        "\r\n",
        "print(\"The Predicted Value is\",np.argmax(predicted[0]))"
      ],
      "execution_count": 74,
      "outputs": [
        {
          "output_type": "stream",
          "text": [
            "307200\n"
          ],
          "name": "stdout"
        },
        {
          "output_type": "display_data",
          "data": {
            "image/png": "[encoded data removed]",
            "text/plain": [
              "<Figure size 432x288 with 1 Axes>"
            ]
          },
          "metadata": {
            "tags": [],
            "needs_background": "light"
          }
        },
        {
          "output_type": "display_data",
          "data": {
            "image/png": "[encoded data removed]",
            "text/plain": [
              "<Figure size 432x288 with 1 Axes>"
            ]
          },
          "metadata": {
            "tags": [],
            "needs_background": "light"
          }
        },
        {
          "output_type": "stream",
          "text": [
            "Probability Distribution for 0 0.007435806\n",
            "Probability Distribution for 1 0.022459466\n",
            "Probability Distribution for 2 0.08966774\n",
            "Probability Distribution for 3 0.22943354\n",
            "Probability Distribution for 4 0.00014253076\n",
            "Probability Distribution for 5 0.3445109\n",
            "Probability Distribution for 6 0.0067766574\n",
            "Probability Distribution for 7 1.86821e-05\n",
            "Probability Distribution for 8 0.29946908\n",
            "Probability Distribution for 9 8.551368e-05\n",
            "The Predicted Value is 5\n"
          ],
          "name": "stdout"
        }
      ]
    }
  ]
}